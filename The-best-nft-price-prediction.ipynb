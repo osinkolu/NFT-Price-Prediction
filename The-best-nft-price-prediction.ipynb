{
 "cells": [
  {
   "cell_type": "markdown",
   "id": "425d30b6",
   "metadata": {
    "papermill": {
     "duration": 0.016828,
     "end_time": "2023-02-19T21:12:41.208101",
     "exception": false,
     "start_time": "2023-02-19T21:12:41.191273",
     "status": "completed"
    },
    "tags": []
   },
   "source": [
    "# INTRO.\n",
    "\n",
    "This Notebook contains my winning solution for the [NFT Price Prediction Challenge](https://bitgrit.net/competition/17). Kudos to the Bitgrit team for bringing us such an amazing challenge in the Web 3.0 space.\n"
   ]
  },
  {
   "cell_type": "markdown",
   "id": "869b0589",
   "metadata": {
    "papermill": {
     "duration": 0.015539,
     "end_time": "2023-02-19T21:12:41.238593",
     "exception": false,
     "start_time": "2023-02-19T21:12:41.223054",
     "status": "completed"
    },
    "tags": []
   },
   "source": [
    "# The Data\n",
    "\n",
    "The data used are the official data set as given in the resources folder.\n",
    "\n",
    "- The collections dataset\n",
    "- The Collections Twitter Statistics\n",
    "- The NFTS Train set\n",
    "- The NFTS Test set\n",
    "- The sample submission format"
   ]
  },
  {
   "cell_type": "markdown",
   "id": "8c28a019",
   "metadata": {
    "execution": {
     "iopub.execute_input": "2023-02-15T15:36:28.140030Z",
     "iopub.status.busy": "2023-02-15T15:36:28.139275Z",
     "iopub.status.idle": "2023-02-15T15:36:28.144668Z",
     "shell.execute_reply": "2023-02-15T15:36:28.143899Z"
    },
    "id": "oPNV20hvJDPO",
    "outputId": "3b36427d-1e11-4b57-ace2-ca9aa0c4188f",
    "papermill": {
     "duration": 0.014257,
     "end_time": "2023-02-19T21:12:41.267552",
     "exception": false,
     "start_time": "2023-02-19T21:12:41.253295",
     "status": "completed"
    },
    "tags": []
   },
   "source": [
    "# Environment\n",
    "As my local machine resources are limited, this notebook was run on kaggle kennel to leverage the free and available resources.\n",
    "\n",
    "- CPU ONLY. No GPU is needed."
   ]
  },
  {
   "cell_type": "markdown",
   "id": "13d2827b",
   "metadata": {
    "papermill": {
     "duration": 0.014768,
     "end_time": "2023-02-19T21:12:41.297809",
     "exception": false,
     "start_time": "2023-02-19T21:12:41.283041",
     "status": "completed"
    },
    "tags": []
   },
   "source": [
    "###### Install Catboost"
   ]
  },
  {
   "cell_type": "markdown",
   "id": "2c516224",
   "metadata": {
    "papermill": {
     "duration": 0.014555,
     "end_time": "2023-02-19T21:12:41.326867",
     "exception": false,
     "start_time": "2023-02-19T21:12:41.312312",
     "status": "completed"
    },
    "tags": []
   },
   "source": [
    "Install and Setup Catboost - The catboost model was the main model used to perform trainig and prediction."
   ]
  },
  {
   "cell_type": "code",
   "execution_count": 1,
   "id": "8e0ffbf9",
   "metadata": {
    "execution": {
     "iopub.execute_input": "2023-02-19T21:12:41.357782Z",
     "iopub.status.busy": "2023-02-19T21:12:41.357145Z",
     "iopub.status.idle": "2023-02-19T21:12:54.147465Z",
     "shell.execute_reply": "2023-02-19T21:12:54.146153Z"
    },
    "id": "TT91QdquJY3_",
    "outputId": "f63b61d2-00cf-451f-8562-781aa4ef0409",
    "papermill": {
     "duration": 12.809469,
     "end_time": "2023-02-19T21:12:54.150642",
     "exception": false,
     "start_time": "2023-02-19T21:12:41.341173",
     "status": "completed"
    },
    "tags": []
   },
   "outputs": [
    {
     "name": "stdout",
     "output_type": "stream",
     "text": [
      "/bin/bash: /opt/conda/lib/libtinfo.so.6: no version information available (required by /bin/bash)\r\n",
      "Requirement already satisfied: catboost in /opt/conda/lib/python3.7/site-packages (1.1.1)\r\n",
      "Requirement already satisfied: six in /opt/conda/lib/python3.7/site-packages (from catboost) (1.16.0)\r\n",
      "Requirement already satisfied: scipy in /opt/conda/lib/python3.7/site-packages (from catboost) (1.7.3)\r\n",
      "Requirement already satisfied: numpy>=1.16.0 in /opt/conda/lib/python3.7/site-packages (from catboost) (1.21.6)\r\n",
      "Requirement already satisfied: plotly in /opt/conda/lib/python3.7/site-packages (from catboost) (5.13.0)\r\n",
      "Requirement already satisfied: graphviz in /opt/conda/lib/python3.7/site-packages (from catboost) (0.8.4)\r\n",
      "Requirement already satisfied: pandas>=0.24.0 in /opt/conda/lib/python3.7/site-packages (from catboost) (1.3.5)\r\n",
      "Requirement already satisfied: matplotlib in /opt/conda/lib/python3.7/site-packages (from catboost) (3.5.3)\r\n",
      "Requirement already satisfied: python-dateutil>=2.7.3 in /opt/conda/lib/python3.7/site-packages (from pandas>=0.24.0->catboost) (2.8.2)\r\n",
      "Requirement already satisfied: pytz>=2017.3 in /opt/conda/lib/python3.7/site-packages (from pandas>=0.24.0->catboost) (2022.2.1)\r\n",
      "Requirement already satisfied: packaging>=20.0 in /opt/conda/lib/python3.7/site-packages (from matplotlib->catboost) (23.0)\r\n",
      "Requirement already satisfied: kiwisolver>=1.0.1 in /opt/conda/lib/python3.7/site-packages (from matplotlib->catboost) (1.4.4)\r\n",
      "Requirement already satisfied: pyparsing>=2.2.1 in /opt/conda/lib/python3.7/site-packages (from matplotlib->catboost) (3.0.9)\r\n",
      "Requirement already satisfied: cycler>=0.10 in /opt/conda/lib/python3.7/site-packages (from matplotlib->catboost) (0.11.0)\r\n",
      "Requirement already satisfied: fonttools>=4.22.0 in /opt/conda/lib/python3.7/site-packages (from matplotlib->catboost) (4.37.1)\r\n",
      "Requirement already satisfied: pillow>=6.2.0 in /opt/conda/lib/python3.7/site-packages (from matplotlib->catboost) (9.2.0)\r\n",
      "Requirement already satisfied: tenacity>=6.2.0 in /opt/conda/lib/python3.7/site-packages (from plotly->catboost) (8.0.1)\r\n",
      "Requirement already satisfied: typing-extensions in /opt/conda/lib/python3.7/site-packages (from kiwisolver>=1.0.1->matplotlib->catboost) (4.1.1)\r\n",
      "\u001b[33mWARNING: Running pip as the 'root' user can result in broken permissions and conflicting behaviour with the system package manager. It is recommended to use a virtual environment instead: https://pip.pypa.io/warnings/venv\u001b[0m\u001b[33m\r\n",
      "\u001b[0m"
     ]
    }
   ],
   "source": [
    "!pip install catboost"
   ]
  },
  {
   "cell_type": "code",
   "execution_count": 2,
   "id": "06541be8",
   "metadata": {
    "execution": {
     "iopub.execute_input": "2023-02-19T21:12:54.182690Z",
     "iopub.status.busy": "2023-02-19T21:12:54.182259Z",
     "iopub.status.idle": "2023-02-19T21:12:55.557497Z",
     "shell.execute_reply": "2023-02-19T21:12:55.556312Z"
    },
    "papermill": {
     "duration": 1.394052,
     "end_time": "2023-02-19T21:12:55.559931",
     "exception": false,
     "start_time": "2023-02-19T21:12:54.165879",
     "status": "completed"
    },
    "tags": []
   },
   "outputs": [
    {
     "data": {
      "text/plain": [
       "'1.1.1'"
      ]
     },
     "execution_count": 2,
     "metadata": {},
     "output_type": "execute_result"
    }
   ],
   "source": [
    "import catboost\n",
    "catboost.__version__"
   ]
  },
  {
   "cell_type": "code",
   "execution_count": 3,
   "id": "8699c594",
   "metadata": {
    "execution": {
     "iopub.execute_input": "2023-02-19T21:12:55.591937Z",
     "iopub.status.busy": "2023-02-19T21:12:55.591260Z",
     "iopub.status.idle": "2023-02-19T21:12:55.597781Z",
     "shell.execute_reply": "2023-02-19T21:12:55.596835Z"
    },
    "papermill": {
     "duration": 0.024973,
     "end_time": "2023-02-19T21:12:55.599842",
     "exception": false,
     "start_time": "2023-02-19T21:12:55.574869",
     "status": "completed"
    },
    "tags": []
   },
   "outputs": [
    {
     "data": {
      "text/plain": [
       "'1.0.2'"
      ]
     },
     "execution_count": 3,
     "metadata": {},
     "output_type": "execute_result"
    }
   ],
   "source": [
    "import sklearn\n",
    "sklearn.__version__"
   ]
  },
  {
   "cell_type": "markdown",
   "id": "32b2f74a",
   "metadata": {
    "papermill": {
     "duration": 0.014518,
     "end_time": "2023-02-19T21:12:55.629144",
     "exception": false,
     "start_time": "2023-02-19T21:12:55.614626",
     "status": "completed"
    },
    "tags": []
   },
   "source": [
    "###### Import required Libraries"
   ]
  },
  {
   "cell_type": "markdown",
   "id": "5fc76548",
   "metadata": {
    "papermill": {
     "duration": 0.014866,
     "end_time": "2023-02-19T21:12:55.658803",
     "exception": false,
     "start_time": "2023-02-19T21:12:55.643937",
     "status": "completed"
    },
    "tags": []
   },
   "source": [
    "Kaggle has preinstalled libraries hence we can import them directly without the need to reinstall them"
   ]
  },
  {
   "cell_type": "code",
   "execution_count": 4,
   "id": "2f828be2",
   "metadata": {
    "execution": {
     "iopub.execute_input": "2023-02-19T21:12:55.690976Z",
     "iopub.status.busy": "2023-02-19T21:12:55.690320Z",
     "iopub.status.idle": "2023-02-19T21:12:55.768537Z",
     "shell.execute_reply": "2023-02-19T21:12:55.767430Z"
    },
    "id": "x1wBQdU4JixF",
    "papermill": {
     "duration": 0.097555,
     "end_time": "2023-02-19T21:12:55.771344",
     "exception": false,
     "start_time": "2023-02-19T21:12:55.673789",
     "status": "completed"
    },
    "tags": []
   },
   "outputs": [],
   "source": [
    "import numpy as np # Numpy for numerical operations\n",
    "import pandas as pd #Pandas for tabular operations\n",
    "from catboost import CatBoostRegressor #Catboost for Modelling\n",
    "\n",
    "\n",
    "import seaborn as sns # Seaborn for Plots\n",
    "import matplotlib.pyplot as plt #Matplotlib for plots and visualizations\n",
    "%matplotlib inline\n",
    "\n",
    "# supress warnings\n",
    "import warnings\n",
    "warnings.filterwarnings('ignore')"
   ]
  },
  {
   "cell_type": "markdown",
   "id": "b929c8b0",
   "metadata": {
    "papermill": {
     "duration": 0.014543,
     "end_time": "2023-02-19T21:12:55.800952",
     "exception": false,
     "start_time": "2023-02-19T21:12:55.786409",
     "status": "completed"
    },
    "tags": []
   },
   "source": [
    "###### Import dataset\n",
    "\n",
    "Here, I import the dataset using the pandas library, remember to change path for yourself"
   ]
  },
  {
   "cell_type": "code",
   "execution_count": 5,
   "id": "d5e4178c",
   "metadata": {
    "execution": {
     "iopub.execute_input": "2023-02-19T21:12:55.832246Z",
     "iopub.status.busy": "2023-02-19T21:12:55.831844Z",
     "iopub.status.idle": "2023-02-19T21:12:56.671134Z",
     "shell.execute_reply": "2023-02-19T21:12:56.669979Z"
    },
    "id": "qIpmjf-JJkRu",
    "papermill": {
     "duration": 0.858121,
     "end_time": "2023-02-19T21:12:56.673891",
     "exception": false,
     "start_time": "2023-02-19T21:12:55.815770",
     "status": "completed"
    },
    "tags": []
   },
   "outputs": [],
   "source": [
    "train = pd.read_csv(\"/kaggle/input/NFT-Price-Prediction/nfts_train.csv\")\n",
    "collections = pd.read_csv(\"/kaggle/input/NFT-Price-Prediction/collections.csv\").drop(\"Unnamed: 0\", axis=1)\n",
    "test = pd.read_csv(\"/kaggle/input/NFT-Price-Prediction/nfts_predict.csv\")\n",
    "sub = pd.read_csv(\"/kaggle/input/NFT-Price-Prediction/submission_format.csv\")\n",
    "twitter = pd.read_csv(\"/kaggle/input/NFT-Price-Prediction/collections_twitter_stats.csv\").drop(\"Unnamed: 0\", axis=1)"
   ]
  },
  {
   "cell_type": "markdown",
   "id": "c5e2c49b",
   "metadata": {
    "papermill": {
     "duration": 0.014375,
     "end_time": "2023-02-19T21:12:56.703527",
     "exception": false,
     "start_time": "2023-02-19T21:12:56.689152",
     "status": "completed"
    },
    "tags": []
   },
   "source": [
    "Check out the head of the train set to see what it looks like"
   ]
  },
  {
   "cell_type": "code",
   "execution_count": 6,
   "id": "1f33f843",
   "metadata": {
    "execution": {
     "iopub.execute_input": "2023-02-19T21:12:56.734991Z",
     "iopub.status.busy": "2023-02-19T21:12:56.734180Z",
     "iopub.status.idle": "2023-02-19T21:12:56.752295Z",
     "shell.execute_reply": "2023-02-19T21:12:56.751059Z"
    },
    "id": "G7KdM6QjKJjc",
    "outputId": "ae2045d7-1e94-46af-fb5c-2385b015f220",
    "papermill": {
     "duration": 0.036532,
     "end_time": "2023-02-19T21:12:56.754692",
     "exception": false,
     "start_time": "2023-02-19T21:12:56.718160",
     "status": "completed"
    },
    "tags": []
   },
   "outputs": [
    {
     "data": {
      "text/html": [
       "<div>\n",
       "<style scoped>\n",
       "    .dataframe tbody tr th:only-of-type {\n",
       "        vertical-align: middle;\n",
       "    }\n",
       "\n",
       "    .dataframe tbody tr th {\n",
       "        vertical-align: top;\n",
       "    }\n",
       "\n",
       "    .dataframe thead th {\n",
       "        text-align: right;\n",
       "    }\n",
       "</style>\n",
       "<table border=\"1\" class=\"dataframe\">\n",
       "  <thead>\n",
       "    <tr style=\"text-align: right;\">\n",
       "      <th></th>\n",
       "      <th>global_index</th>\n",
       "      <th>nft_id</th>\n",
       "      <th>collection_id</th>\n",
       "      <th>rarity_score</th>\n",
       "      <th>openrarity_score</th>\n",
       "      <th>openrarity_rank</th>\n",
       "      <th>openrarity_max_rank</th>\n",
       "      <th>last_sale_date</th>\n",
       "      <th>last_sale_price</th>\n",
       "    </tr>\n",
       "  </thead>\n",
       "  <tbody>\n",
       "    <tr>\n",
       "      <th>309908</th>\n",
       "      <td>590226</td>\n",
       "      <td>8998</td>\n",
       "      <td>4</td>\n",
       "      <td>130.974464</td>\n",
       "      <td>NaN</td>\n",
       "      <td>NaN</td>\n",
       "      <td>NaN</td>\n",
       "      <td>2022-08</td>\n",
       "      <td>0.004236</td>\n",
       "    </tr>\n",
       "    <tr>\n",
       "      <th>309909</th>\n",
       "      <td>590227</td>\n",
       "      <td>8999</td>\n",
       "      <td>4</td>\n",
       "      <td>103.120966</td>\n",
       "      <td>NaN</td>\n",
       "      <td>NaN</td>\n",
       "      <td>NaN</td>\n",
       "      <td>2022-08</td>\n",
       "      <td>0.006236</td>\n",
       "    </tr>\n",
       "  </tbody>\n",
       "</table>\n",
       "</div>"
      ],
      "text/plain": [
       "        global_index  nft_id  collection_id  rarity_score  openrarity_score  \\\n",
       "309908        590226    8998              4    130.974464               NaN   \n",
       "309909        590227    8999              4    103.120966               NaN   \n",
       "\n",
       "        openrarity_rank  openrarity_max_rank last_sale_date  last_sale_price  \n",
       "309908              NaN                  NaN        2022-08         0.004236  \n",
       "309909              NaN                  NaN        2022-08         0.006236  "
      ]
     },
     "execution_count": 6,
     "metadata": {},
     "output_type": "execute_result"
    }
   ],
   "source": [
    "train.tail(2)"
   ]
  },
  {
   "cell_type": "markdown",
   "id": "254fea74",
   "metadata": {
    "papermill": {
     "duration": 0.014944,
     "end_time": "2023-02-19T21:12:56.785269",
     "exception": false,
     "start_time": "2023-02-19T21:12:56.770325",
     "status": "completed"
    },
    "tags": []
   },
   "source": [
    "Keep target _last sale price_ in a safe place to be used later during modelling"
   ]
  },
  {
   "cell_type": "code",
   "execution_count": 7,
   "id": "4e783dde",
   "metadata": {
    "execution": {
     "iopub.execute_input": "2023-02-19T21:12:56.817193Z",
     "iopub.status.busy": "2023-02-19T21:12:56.816734Z",
     "iopub.status.idle": "2023-02-19T21:12:56.840152Z",
     "shell.execute_reply": "2023-02-19T21:12:56.839008Z"
    },
    "id": "4DFpFri4TjDF",
    "papermill": {
     "duration": 0.042228,
     "end_time": "2023-02-19T21:12:56.842475",
     "exception": false,
     "start_time": "2023-02-19T21:12:56.800247",
     "status": "completed"
    },
    "tags": []
   },
   "outputs": [],
   "source": [
    "target = train.last_sale_price\n",
    "\n",
    "train = train.drop(\"last_sale_price\", axis=1)"
   ]
  },
  {
   "cell_type": "markdown",
   "id": "90e85402",
   "metadata": {
    "papermill": {
     "duration": 0.014828,
     "end_time": "2023-02-19T21:12:56.872503",
     "exception": false,
     "start_time": "2023-02-19T21:12:56.857675",
     "status": "completed"
    },
    "tags": []
   },
   "source": [
    "Checkout the Tail of the test set"
   ]
  },
  {
   "cell_type": "code",
   "execution_count": 8,
   "id": "69523d05",
   "metadata": {
    "execution": {
     "iopub.execute_input": "2023-02-19T21:12:56.905168Z",
     "iopub.status.busy": "2023-02-19T21:12:56.904727Z",
     "iopub.status.idle": "2023-02-19T21:12:56.918126Z",
     "shell.execute_reply": "2023-02-19T21:12:56.916965Z"
    },
    "id": "qdXi4EjNKL1q",
    "outputId": "f9dd97a2-dbe7-4ea8-e7ba-be9bbc7253b0",
    "papermill": {
     "duration": 0.032079,
     "end_time": "2023-02-19T21:12:56.920355",
     "exception": false,
     "start_time": "2023-02-19T21:12:56.888276",
     "status": "completed"
    },
    "tags": []
   },
   "outputs": [
    {
     "data": {
      "text/html": [
       "<div>\n",
       "<style scoped>\n",
       "    .dataframe tbody tr th:only-of-type {\n",
       "        vertical-align: middle;\n",
       "    }\n",
       "\n",
       "    .dataframe tbody tr th {\n",
       "        vertical-align: top;\n",
       "    }\n",
       "\n",
       "    .dataframe thead th {\n",
       "        text-align: right;\n",
       "    }\n",
       "</style>\n",
       "<table border=\"1\" class=\"dataframe\">\n",
       "  <thead>\n",
       "    <tr style=\"text-align: right;\">\n",
       "      <th></th>\n",
       "      <th>global_index</th>\n",
       "      <th>nft_id</th>\n",
       "      <th>collection_id</th>\n",
       "      <th>rarity_score</th>\n",
       "      <th>openrarity_score</th>\n",
       "      <th>openrarity_rank</th>\n",
       "      <th>openrarity_max_rank</th>\n",
       "      <th>last_sale_date</th>\n",
       "    </tr>\n",
       "  </thead>\n",
       "  <tbody>\n",
       "    <tr>\n",
       "      <th>181212</th>\n",
       "      <td>618140</td>\n",
       "      <td>7143</td>\n",
       "      <td>42</td>\n",
       "      <td>22134.000000</td>\n",
       "      <td>NaN</td>\n",
       "      <td>NaN</td>\n",
       "      <td>NaN</td>\n",
       "      <td>2021-04</td>\n",
       "    </tr>\n",
       "    <tr>\n",
       "      <th>181213</th>\n",
       "      <td>618141</td>\n",
       "      <td>7144</td>\n",
       "      <td>42</td>\n",
       "      <td>130.970414</td>\n",
       "      <td>NaN</td>\n",
       "      <td>NaN</td>\n",
       "      <td>NaN</td>\n",
       "      <td>2021-03</td>\n",
       "    </tr>\n",
       "  </tbody>\n",
       "</table>\n",
       "</div>"
      ],
      "text/plain": [
       "        global_index  nft_id  collection_id  rarity_score  openrarity_score  \\\n",
       "181212        618140    7143             42  22134.000000               NaN   \n",
       "181213        618141    7144             42    130.970414               NaN   \n",
       "\n",
       "        openrarity_rank  openrarity_max_rank last_sale_date  \n",
       "181212              NaN                  NaN        2021-04  \n",
       "181213              NaN                  NaN        2021-03  "
      ]
     },
     "execution_count": 8,
     "metadata": {},
     "output_type": "execute_result"
    }
   ],
   "source": [
    "test.tail(2)"
   ]
  },
  {
   "cell_type": "markdown",
   "id": "0fca6161",
   "metadata": {
    "papermill": {
     "duration": 0.015012,
     "end_time": "2023-02-19T21:12:56.950935",
     "exception": false,
     "start_time": "2023-02-19T21:12:56.935923",
     "status": "completed"
    },
    "tags": []
   },
   "source": [
    "Check out what the collections look like"
   ]
  },
  {
   "cell_type": "code",
   "execution_count": 9,
   "id": "4cfd1fd7",
   "metadata": {
    "execution": {
     "iopub.execute_input": "2023-02-19T21:12:56.982985Z",
     "iopub.status.busy": "2023-02-19T21:12:56.982560Z",
     "iopub.status.idle": "2023-02-19T21:12:56.998726Z",
     "shell.execute_reply": "2023-02-19T21:12:56.997526Z"
    },
    "id": "xtPPDCxXKOKC",
    "outputId": "870b10a6-0ddc-4f0a-f451-537d5dc4929e",
    "papermill": {
     "duration": 0.034872,
     "end_time": "2023-02-19T21:12:57.001061",
     "exception": false,
     "start_time": "2023-02-19T21:12:56.966189",
     "status": "completed"
    },
    "tags": []
   },
   "outputs": [
    {
     "data": {
      "text/html": [
       "<div>\n",
       "<style scoped>\n",
       "    .dataframe tbody tr th:only-of-type {\n",
       "        vertical-align: middle;\n",
       "    }\n",
       "\n",
       "    .dataframe tbody tr th {\n",
       "        vertical-align: top;\n",
       "    }\n",
       "\n",
       "    .dataframe thead th {\n",
       "        text-align: right;\n",
       "    }\n",
       "</style>\n",
       "<table border=\"1\" class=\"dataframe\">\n",
       "  <thead>\n",
       "    <tr style=\"text-align: right;\">\n",
       "      <th></th>\n",
       "      <th>collection_id</th>\n",
       "      <th>total_supply</th>\n",
       "      <th>creation_date</th>\n",
       "      <th>verification_status</th>\n",
       "      <th>n_of_traits</th>\n",
       "      <th>contract_type</th>\n",
       "      <th>seller_fees</th>\n",
       "      <th>platform_fees</th>\n",
       "      <th>openrarity_enabled</th>\n",
       "      <th>has_website</th>\n",
       "      <th>has_own_twitter</th>\n",
       "      <th>has_discord</th>\n",
       "      <th>has_medium</th>\n",
       "    </tr>\n",
       "  </thead>\n",
       "  <tbody>\n",
       "    <tr>\n",
       "      <th>0</th>\n",
       "      <td>19</td>\n",
       "      <td>1000</td>\n",
       "      <td>2021-04</td>\n",
       "      <td>verified</td>\n",
       "      <td>4</td>\n",
       "      <td>own</td>\n",
       "      <td>500.0</td>\n",
       "      <td>250</td>\n",
       "      <td>False</td>\n",
       "      <td>False</td>\n",
       "      <td>True</td>\n",
       "      <td>True</td>\n",
       "      <td>True</td>\n",
       "    </tr>\n",
       "    <tr>\n",
       "      <th>1</th>\n",
       "      <td>45</td>\n",
       "      <td>8888</td>\n",
       "      <td>2021-07</td>\n",
       "      <td>verified</td>\n",
       "      <td>5</td>\n",
       "      <td>own</td>\n",
       "      <td>500.0</td>\n",
       "      <td>250</td>\n",
       "      <td>False</td>\n",
       "      <td>False</td>\n",
       "      <td>True</td>\n",
       "      <td>True</td>\n",
       "      <td>False</td>\n",
       "    </tr>\n",
       "  </tbody>\n",
       "</table>\n",
       "</div>"
      ],
      "text/plain": [
       "   collection_id  total_supply creation_date verification_status  n_of_traits  \\\n",
       "0             19          1000       2021-04            verified            4   \n",
       "1             45          8888       2021-07            verified            5   \n",
       "\n",
       "  contract_type  seller_fees  platform_fees  openrarity_enabled  has_website  \\\n",
       "0           own        500.0            250               False        False   \n",
       "1           own        500.0            250               False        False   \n",
       "\n",
       "   has_own_twitter  has_discord  has_medium  \n",
       "0             True         True        True  \n",
       "1             True         True       False  "
      ]
     },
     "execution_count": 9,
     "metadata": {},
     "output_type": "execute_result"
    }
   ],
   "source": [
    "collections.head(2)"
   ]
  },
  {
   "cell_type": "markdown",
   "id": "16c9a24e",
   "metadata": {
    "papermill": {
     "duration": 0.015465,
     "end_time": "2023-02-19T21:12:57.032425",
     "exception": false,
     "start_time": "2023-02-19T21:12:57.016960",
     "status": "completed"
    },
    "tags": []
   },
   "source": [
    "Check out what the twitter data looks like"
   ]
  },
  {
   "cell_type": "code",
   "execution_count": 10,
   "id": "91249a30",
   "metadata": {
    "execution": {
     "iopub.execute_input": "2023-02-19T21:12:57.065310Z",
     "iopub.status.busy": "2023-02-19T21:12:57.064918Z",
     "iopub.status.idle": "2023-02-19T21:12:57.079545Z",
     "shell.execute_reply": "2023-02-19T21:12:57.078473Z"
    },
    "id": "9svkwFm_KbL0",
    "outputId": "b473d599-9b93-4fbf-af33-eaf5739c9e19",
    "papermill": {
     "duration": 0.033943,
     "end_time": "2023-02-19T21:12:57.081819",
     "exception": false,
     "start_time": "2023-02-19T21:12:57.047876",
     "status": "completed"
    },
    "tags": []
   },
   "outputs": [
    {
     "data": {
      "text/html": [
       "<div>\n",
       "<style scoped>\n",
       "    .dataframe tbody tr th:only-of-type {\n",
       "        vertical-align: middle;\n",
       "    }\n",
       "\n",
       "    .dataframe tbody tr th {\n",
       "        vertical-align: top;\n",
       "    }\n",
       "\n",
       "    .dataframe thead th {\n",
       "        text-align: right;\n",
       "    }\n",
       "</style>\n",
       "<table border=\"1\" class=\"dataframe\">\n",
       "  <thead>\n",
       "    <tr style=\"text-align: right;\">\n",
       "      <th></th>\n",
       "      <th>collection_id</th>\n",
       "      <th>n_tweets_in_range</th>\n",
       "      <th>avg_likes</th>\n",
       "      <th>avg_replies</th>\n",
       "      <th>avg_retweets</th>\n",
       "      <th>min_likes</th>\n",
       "      <th>min_replies</th>\n",
       "      <th>min_retweets</th>\n",
       "      <th>max_likes</th>\n",
       "      <th>max_replies</th>\n",
       "      <th>max_retweets</th>\n",
       "    </tr>\n",
       "  </thead>\n",
       "  <tbody>\n",
       "    <tr>\n",
       "      <th>0</th>\n",
       "      <td>0</td>\n",
       "      <td>2</td>\n",
       "      <td>183.000</td>\n",
       "      <td>8.5000</td>\n",
       "      <td>41.0000</td>\n",
       "      <td>123</td>\n",
       "      <td>3</td>\n",
       "      <td>6</td>\n",
       "      <td>243</td>\n",
       "      <td>14</td>\n",
       "      <td>76</td>\n",
       "    </tr>\n",
       "    <tr>\n",
       "      <th>1</th>\n",
       "      <td>1</td>\n",
       "      <td>16</td>\n",
       "      <td>36.375</td>\n",
       "      <td>3.5625</td>\n",
       "      <td>13.9375</td>\n",
       "      <td>0</td>\n",
       "      <td>0</td>\n",
       "      <td>0</td>\n",
       "      <td>125</td>\n",
       "      <td>21</td>\n",
       "      <td>34</td>\n",
       "    </tr>\n",
       "  </tbody>\n",
       "</table>\n",
       "</div>"
      ],
      "text/plain": [
       "   collection_id  n_tweets_in_range  avg_likes  avg_replies  avg_retweets  \\\n",
       "0              0                  2    183.000       8.5000       41.0000   \n",
       "1              1                 16     36.375       3.5625       13.9375   \n",
       "\n",
       "   min_likes  min_replies  min_retweets  max_likes  max_replies  max_retweets  \n",
       "0        123            3             6        243           14            76  \n",
       "1          0            0             0        125           21            34  "
      ]
     },
     "execution_count": 10,
     "metadata": {},
     "output_type": "execute_result"
    }
   ],
   "source": [
    "twitter.head(2)"
   ]
  },
  {
   "cell_type": "markdown",
   "id": "1832e6df",
   "metadata": {
    "papermill": {
     "duration": 0.015387,
     "end_time": "2023-02-19T21:12:57.113011",
     "exception": false,
     "start_time": "2023-02-19T21:12:57.097624",
     "status": "completed"
    },
    "tags": []
   },
   "source": [
    "A sneek peek into the highest occuring collection ID. It gives a sense of what kind of uniqueness we're expecting"
   ]
  },
  {
   "cell_type": "code",
   "execution_count": 11,
   "id": "5f6c5a0f",
   "metadata": {
    "execution": {
     "iopub.execute_input": "2023-02-19T21:12:57.146336Z",
     "iopub.status.busy": "2023-02-19T21:12:57.145918Z",
     "iopub.status.idle": "2023-02-19T21:12:57.159696Z",
     "shell.execute_reply": "2023-02-19T21:12:57.158525Z"
    },
    "id": "S0wVdbWMKfeM",
    "outputId": "509441d2-604b-4bdf-d0a1-b853342076c9",
    "papermill": {
     "duration": 0.033281,
     "end_time": "2023-02-19T21:12:57.162055",
     "exception": false,
     "start_time": "2023-02-19T21:12:57.128774",
     "status": "completed"
    },
    "tags": []
   },
   "outputs": [
    {
     "data": {
      "text/plain": [
       "0    46\n",
       "dtype: int64"
      ]
     },
     "execution_count": 11,
     "metadata": {},
     "output_type": "execute_result"
    }
   ],
   "source": [
    "train['collection_id'].mode()"
   ]
  },
  {
   "cell_type": "markdown",
   "id": "97259d40",
   "metadata": {
    "papermill": {
     "duration": 0.015444,
     "end_time": "2023-02-19T21:12:57.193551",
     "exception": false,
     "start_time": "2023-02-19T21:12:57.178107",
     "status": "completed"
    },
    "tags": []
   },
   "source": [
    "Describe the train data to see the important measures of tendency"
   ]
  },
  {
   "cell_type": "code",
   "execution_count": 12,
   "id": "33d55eae",
   "metadata": {
    "execution": {
     "iopub.execute_input": "2023-02-19T21:12:57.227527Z",
     "iopub.status.busy": "2023-02-19T21:12:57.227070Z",
     "iopub.status.idle": "2023-02-19T21:12:57.328162Z",
     "shell.execute_reply": "2023-02-19T21:12:57.326913Z"
    },
    "id": "vCqryLg1LGwG",
    "outputId": "1f50eb31-e8c7-4f83-b8a2-839233be5b49",
    "papermill": {
     "duration": 0.121505,
     "end_time": "2023-02-19T21:12:57.330873",
     "exception": false,
     "start_time": "2023-02-19T21:12:57.209368",
     "status": "completed"
    },
    "tags": []
   },
   "outputs": [
    {
     "data": {
      "text/html": [
       "<div>\n",
       "<style scoped>\n",
       "    .dataframe tbody tr th:only-of-type {\n",
       "        vertical-align: middle;\n",
       "    }\n",
       "\n",
       "    .dataframe tbody tr th {\n",
       "        vertical-align: top;\n",
       "    }\n",
       "\n",
       "    .dataframe thead th {\n",
       "        text-align: right;\n",
       "    }\n",
       "</style>\n",
       "<table border=\"1\" class=\"dataframe\">\n",
       "  <thead>\n",
       "    <tr style=\"text-align: right;\">\n",
       "      <th></th>\n",
       "      <th>global_index</th>\n",
       "      <th>nft_id</th>\n",
       "      <th>collection_id</th>\n",
       "      <th>rarity_score</th>\n",
       "      <th>openrarity_score</th>\n",
       "      <th>openrarity_rank</th>\n",
       "      <th>openrarity_max_rank</th>\n",
       "    </tr>\n",
       "  </thead>\n",
       "  <tbody>\n",
       "    <tr>\n",
       "      <th>count</th>\n",
       "      <td>309910.000000</td>\n",
       "      <td>309910.000000</td>\n",
       "      <td>309910.000000</td>\n",
       "      <td>309910.000000</td>\n",
       "      <td>80480.000000</td>\n",
       "      <td>80480.000000</td>\n",
       "      <td>80480.000000</td>\n",
       "    </tr>\n",
       "    <tr>\n",
       "      <th>mean</th>\n",
       "      <td>317003.207947</td>\n",
       "      <td>6738.162024</td>\n",
       "      <td>30.507160</td>\n",
       "      <td>1437.092531</td>\n",
       "      <td>1.000000</td>\n",
       "      <td>5630.164737</td>\n",
       "      <td>11255.829672</td>\n",
       "    </tr>\n",
       "    <tr>\n",
       "      <th>std</th>\n",
       "      <td>173138.765569</td>\n",
       "      <td>5977.542096</td>\n",
       "      <td>18.331668</td>\n",
       "      <td>4303.585892</td>\n",
       "      <td>0.152825</td>\n",
       "      <td>3812.126968</td>\n",
       "      <td>3452.713804</td>\n",
       "    </tr>\n",
       "    <tr>\n",
       "      <th>min</th>\n",
       "      <td>21928.000000</td>\n",
       "      <td>0.000000</td>\n",
       "      <td>0.000000</td>\n",
       "      <td>1.000000</td>\n",
       "      <td>0.626738</td>\n",
       "      <td>1.000000</td>\n",
       "      <td>5555.000000</td>\n",
       "    </tr>\n",
       "    <tr>\n",
       "      <th>25%</th>\n",
       "      <td>174892.250000</td>\n",
       "      <td>2453.000000</td>\n",
       "      <td>13.000000</td>\n",
       "      <td>106.587184</td>\n",
       "      <td>0.906820</td>\n",
       "      <td>2515.750000</td>\n",
       "      <td>9928.000000</td>\n",
       "    </tr>\n",
       "    <tr>\n",
       "      <th>50%</th>\n",
       "      <td>341467.500000</td>\n",
       "      <td>5138.000000</td>\n",
       "      <td>34.000000</td>\n",
       "      <td>170.797030</td>\n",
       "      <td>0.978289</td>\n",
       "      <td>5030.000000</td>\n",
       "      <td>10000.000000</td>\n",
       "    </tr>\n",
       "    <tr>\n",
       "      <th>75%</th>\n",
       "      <td>493626.750000</td>\n",
       "      <td>8720.750000</td>\n",
       "      <td>46.000000</td>\n",
       "      <td>289.614129</td>\n",
       "      <td>1.059866</td>\n",
       "      <td>8207.250000</td>\n",
       "      <td>15000.000000</td>\n",
       "    </tr>\n",
       "    <tr>\n",
       "      <th>max</th>\n",
       "      <td>590227.000000</td>\n",
       "      <td>29898.000000</td>\n",
       "      <td>60.000000</td>\n",
       "      <td>90354.072248</td>\n",
       "      <td>3.663833</td>\n",
       "      <td>15555.000000</td>\n",
       "      <td>15555.000000</td>\n",
       "    </tr>\n",
       "  </tbody>\n",
       "</table>\n",
       "</div>"
      ],
      "text/plain": [
       "        global_index         nft_id  collection_id   rarity_score  \\\n",
       "count  309910.000000  309910.000000  309910.000000  309910.000000   \n",
       "mean   317003.207947    6738.162024      30.507160    1437.092531   \n",
       "std    173138.765569    5977.542096      18.331668    4303.585892   \n",
       "min     21928.000000       0.000000       0.000000       1.000000   \n",
       "25%    174892.250000    2453.000000      13.000000     106.587184   \n",
       "50%    341467.500000    5138.000000      34.000000     170.797030   \n",
       "75%    493626.750000    8720.750000      46.000000     289.614129   \n",
       "max    590227.000000   29898.000000      60.000000   90354.072248   \n",
       "\n",
       "       openrarity_score  openrarity_rank  openrarity_max_rank  \n",
       "count      80480.000000     80480.000000         80480.000000  \n",
       "mean           1.000000      5630.164737         11255.829672  \n",
       "std            0.152825      3812.126968          3452.713804  \n",
       "min            0.626738         1.000000          5555.000000  \n",
       "25%            0.906820      2515.750000          9928.000000  \n",
       "50%            0.978289      5030.000000         10000.000000  \n",
       "75%            1.059866      8207.250000         15000.000000  \n",
       "max            3.663833     15555.000000         15555.000000  "
      ]
     },
     "execution_count": 12,
     "metadata": {},
     "output_type": "execute_result"
    }
   ],
   "source": [
    "train.describe()"
   ]
  },
  {
   "cell_type": "markdown",
   "id": "3fdd7bf0",
   "metadata": {
    "execution": {
     "iopub.execute_input": "2023-02-15T15:36:44.528235Z",
     "iopub.status.busy": "2023-02-15T15:36:44.527540Z",
     "iopub.status.idle": "2023-02-15T15:36:44.532703Z",
     "shell.execute_reply": "2023-02-15T15:36:44.531474Z"
    },
    "id": "xgpygHGwL4_b",
    "papermill": {
     "duration": 0.015977,
     "end_time": "2023-02-19T21:12:57.363818",
     "exception": false,
     "start_time": "2023-02-19T21:12:57.347841",
     "status": "completed"
    },
    "tags": []
   },
   "source": [
    "###### Merge Train and test data\n",
    "\n",
    "Rather than doing prepocessing twice or having to copy the same code for train and test set, Merge instead and split back after processing"
   ]
  },
  {
   "cell_type": "code",
   "execution_count": 13,
   "id": "570b13bc",
   "metadata": {
    "execution": {
     "iopub.execute_input": "2023-02-19T21:12:57.398073Z",
     "iopub.status.busy": "2023-02-19T21:12:57.397450Z",
     "iopub.status.idle": "2023-02-19T21:12:57.459834Z",
     "shell.execute_reply": "2023-02-19T21:12:57.458468Z"
    },
    "id": "3bu3twB-OBXH",
    "papermill": {
     "duration": 0.082614,
     "end_time": "2023-02-19T21:12:57.462548",
     "exception": false,
     "start_time": "2023-02-19T21:12:57.379934",
     "status": "completed"
    },
    "tags": []
   },
   "outputs": [],
   "source": [
    "data = pd.concat([train, test]).reset_index()"
   ]
  },
  {
   "cell_type": "markdown",
   "id": "c9101b1b",
   "metadata": {
    "papermill": {
     "duration": 0.016274,
     "end_time": "2023-02-19T21:12:57.494985",
     "exception": false,
     "start_time": "2023-02-19T21:12:57.478711",
     "status": "completed"
    },
    "tags": []
   },
   "source": [
    "###### Intelligent Combinations\n",
    "\n",
    "Combine both the twitter and collections data to the dataset. This helps build a more robust dataset, and helps the model understand the data better"
   ]
  },
  {
   "cell_type": "code",
   "execution_count": 14,
   "id": "4649bb95",
   "metadata": {
    "execution": {
     "iopub.execute_input": "2023-02-19T21:12:57.529175Z",
     "iopub.status.busy": "2023-02-19T21:12:57.528266Z",
     "iopub.status.idle": "2023-02-19T21:12:57.939464Z",
     "shell.execute_reply": "2023-02-19T21:12:57.938387Z"
    },
    "id": "juhu9FLyNScK",
    "papermill": {
     "duration": 0.431412,
     "end_time": "2023-02-19T21:12:57.942500",
     "exception": false,
     "start_time": "2023-02-19T21:12:57.511088",
     "status": "completed"
    },
    "tags": []
   },
   "outputs": [],
   "source": [
    "data = data.merge(collections, how='left', on='collection_id')\n",
    "data = data.merge(twitter, how='left', on='collection_id')"
   ]
  },
  {
   "cell_type": "markdown",
   "id": "3baff30a",
   "metadata": {
    "papermill": {
     "duration": 0.015829,
     "end_time": "2023-02-19T21:12:57.974939",
     "exception": false,
     "start_time": "2023-02-19T21:12:57.959110",
     "status": "completed"
    },
    "tags": []
   },
   "source": [
    "###### Extract date time features.\n",
    "\n",
    "Extract the basic date time features from both the creation date and the Last sale date. The key data to extract are:\n",
    "\n",
    "- Year\n",
    "- Month"
   ]
  },
  {
   "cell_type": "code",
   "execution_count": 15,
   "id": "14388f9b",
   "metadata": {
    "execution": {
     "iopub.execute_input": "2023-02-19T21:12:58.009568Z",
     "iopub.status.busy": "2023-02-19T21:12:58.009072Z",
     "iopub.status.idle": "2023-02-19T21:12:58.341450Z",
     "shell.execute_reply": "2023-02-19T21:12:58.340478Z"
    },
    "id": "jRIwTMFNRN2F",
    "papermill": {
     "duration": 0.352872,
     "end_time": "2023-02-19T21:12:58.344045",
     "exception": false,
     "start_time": "2023-02-19T21:12:57.991173",
     "status": "completed"
    },
    "tags": []
   },
   "outputs": [],
   "source": [
    "data[\"creation_date\"] = pd.to_datetime(data.creation_date)\n",
    "data['creation_date_year'] = data.creation_date.dt.year\n",
    "data['creation_date_year'] = data.creation_date.dt.month\n",
    "\n",
    "\n",
    "\n",
    "data[\"last_sale_date\"] = pd.to_datetime(data.last_sale_date)\n",
    "data['last_sale_date_year'] = data.last_sale_date.dt.year\n",
    "data['last_sale_date_month'] = data.last_sale_date.dt.month"
   ]
  },
  {
   "cell_type": "markdown",
   "id": "218466a1",
   "metadata": {
    "id": "FqMCQnoEOGc7",
    "papermill": {
     "duration": 0.01592,
     "end_time": "2023-02-19T21:12:58.377123",
     "exception": false,
     "start_time": "2023-02-19T21:12:58.361203",
     "status": "completed"
    },
    "tags": []
   },
   "source": [
    "###### Engineer more Features.\n",
    "\n",
    "Here I engineer some features. \n",
    "\n",
    "1. The first is to take the length of days between the creation date and the last sale date.\n",
    "2. The second feature gives a score of rows that have all the mentioned communications medium: this includes if they have website, twitter, discord and medium and if openrarity is enabled. With this I give a score \"1 point\" for each medium\n"
   ]
  },
  {
   "cell_type": "code",
   "execution_count": 16,
   "id": "1ceba140",
   "metadata": {
    "execution": {
     "iopub.execute_input": "2023-02-19T21:12:58.411510Z",
     "iopub.status.busy": "2023-02-19T21:12:58.410816Z",
     "iopub.status.idle": "2023-02-19T21:12:58.467172Z",
     "shell.execute_reply": "2023-02-19T21:12:58.465537Z"
    },
    "id": "jN7CLu9wOOJl",
    "papermill": {
     "duration": 0.076709,
     "end_time": "2023-02-19T21:12:58.470063",
     "exception": false,
     "start_time": "2023-02-19T21:12:58.393354",
     "status": "completed"
    },
    "tags": []
   },
   "outputs": [],
   "source": [
    "data['diff_days'] = (pd.to_datetime(data[\"last_sale_date\"]) - pd.to_datetime(data['creation_date'])).dt.days"
   ]
  },
  {
   "cell_type": "code",
   "execution_count": 17,
   "id": "eef896bb",
   "metadata": {
    "execution": {
     "iopub.execute_input": "2023-02-19T21:12:58.504866Z",
     "iopub.status.busy": "2023-02-19T21:12:58.504421Z",
     "iopub.status.idle": "2023-02-19T21:12:59.678605Z",
     "shell.execute_reply": "2023-02-19T21:12:59.677333Z"
    },
    "id": "jNP1LtrDQMEk",
    "papermill": {
     "duration": 1.194445,
     "end_time": "2023-02-19T21:12:59.681342",
     "exception": false,
     "start_time": "2023-02-19T21:12:58.486897",
     "status": "completed"
    },
    "tags": []
   },
   "outputs": [],
   "source": [
    "data[\"has_all\"] = data.select_dtypes(include=[\"bool_\"]).T.sum()"
   ]
  },
  {
   "cell_type": "markdown",
   "id": "9bdb031e",
   "metadata": {
    "papermill": {
     "duration": 0.01771,
     "end_time": "2023-02-19T21:12:59.716689",
     "exception": false,
     "start_time": "2023-02-19T21:12:59.698979",
     "status": "completed"
    },
    "tags": []
   },
   "source": [
    "###### More Cleaning and manipulation."
   ]
  },
  {
   "cell_type": "markdown",
   "id": "dde8f6f1",
   "metadata": {
    "papermill": {
     "duration": 0.015859,
     "end_time": "2023-02-19T21:12:59.748963",
     "exception": false,
     "start_time": "2023-02-19T21:12:59.733104",
     "status": "completed"
    },
    "tags": []
   },
   "source": [
    "Here I map the booleans in the data set, scoring them \"1\" if true and \"0\" if False. They include.\n",
    "\n",
    "- Openrarity enabled\n",
    "- has website\n",
    "- has own twitter\n",
    "- has discord\n",
    "- has medium"
   ]
  },
  {
   "cell_type": "code",
   "execution_count": 18,
   "id": "083a9272",
   "metadata": {
    "execution": {
     "iopub.execute_input": "2023-02-19T21:12:59.783271Z",
     "iopub.status.busy": "2023-02-19T21:12:59.782845Z",
     "iopub.status.idle": "2023-02-19T21:12:59.858939Z",
     "shell.execute_reply": "2023-02-19T21:12:59.857782Z"
    },
    "id": "tf_6-8rBOgZ_",
    "outputId": "24f0a064-abb2-403b-97f1-1bf6f8572b63",
    "papermill": {
     "duration": 0.096375,
     "end_time": "2023-02-19T21:12:59.861646",
     "exception": false,
     "start_time": "2023-02-19T21:12:59.765271",
     "status": "completed"
    },
    "tags": []
   },
   "outputs": [
    {
     "data": {
      "text/plain": [
       "['openrarity_enabled',\n",
       " 'has_website',\n",
       " 'has_own_twitter',\n",
       " 'has_discord',\n",
       " 'has_medium']"
      ]
     },
     "execution_count": 18,
     "metadata": {},
     "output_type": "execute_result"
    }
   ],
   "source": [
    "data_bool = data.select_dtypes(include=[\"bool_\"]).columns.tolist()\n",
    "data_bool"
   ]
  },
  {
   "cell_type": "code",
   "execution_count": 19,
   "id": "f154a7d7",
   "metadata": {
    "execution": {
     "iopub.execute_input": "2023-02-19T21:12:59.898204Z",
     "iopub.status.busy": "2023-02-19T21:12:59.897785Z",
     "iopub.status.idle": "2023-02-19T21:13:00.149070Z",
     "shell.execute_reply": "2023-02-19T21:13:00.147889Z"
    },
    "id": "qgVza63nOjKf",
    "papermill": {
     "duration": 0.273333,
     "end_time": "2023-02-19T21:13:00.151973",
     "exception": false,
     "start_time": "2023-02-19T21:12:59.878640",
     "status": "completed"
    },
    "tags": []
   },
   "outputs": [],
   "source": [
    "for i in data_bool:\n",
    "  data[i] = data[i].map({True:1, False:0})"
   ]
  },
  {
   "cell_type": "markdown",
   "id": "6d03134c",
   "metadata": {
    "papermill": {
     "duration": 0.015973,
     "end_time": "2023-02-19T21:13:00.184695",
     "exception": false,
     "start_time": "2023-02-19T21:13:00.168722",
     "status": "completed"
    },
    "tags": []
   },
   "source": [
    "For the verification status, I score them based on a simple mapping. For Approved ones, I score them \"1\", for the verified ones, I score them \"3\". If they are neither approved nor verified, I give a \"0\" score"
   ]
  },
  {
   "cell_type": "code",
   "execution_count": 20,
   "id": "b2d59e41",
   "metadata": {
    "execution": {
     "iopub.execute_input": "2023-02-19T21:13:00.219210Z",
     "iopub.status.busy": "2023-02-19T21:13:00.218812Z",
     "iopub.status.idle": "2023-02-19T21:13:00.529814Z",
     "shell.execute_reply": "2023-02-19T21:13:00.528737Z"
    },
    "id": "V_ev3DlCUfrR",
    "papermill": {
     "duration": 0.331702,
     "end_time": "2023-02-19T21:13:00.532614",
     "exception": false,
     "start_time": "2023-02-19T21:13:00.200912",
     "status": "completed"
    },
    "tags": []
   },
   "outputs": [],
   "source": [
    "data.verification_status.unique()\n",
    "v_stat = []\n",
    "\n",
    "for i in data.verification_status:\n",
    "  if i ==  'approved':\n",
    "    v_stat.append(1)\n",
    "  elif i ==  'verified':\n",
    "    v_stat.append(3)\n",
    "  else:\n",
    "    v_stat.append(0)\n",
    "\n",
    "data.verification_status = v_stat"
   ]
  },
  {
   "cell_type": "markdown",
   "id": "88a3afbb",
   "metadata": {
    "papermill": {
     "duration": 0.016284,
     "end_time": "2023-02-19T21:13:00.565868",
     "exception": false,
     "start_time": "2023-02-19T21:13:00.549584",
     "status": "completed"
    },
    "tags": []
   },
   "source": [
    "For the contract type, the mapping is simple. For **default** replace with \"0\", for **own** replace with \"1\" "
   ]
  },
  {
   "cell_type": "code",
   "execution_count": 21,
   "id": "3808692e",
   "metadata": {
    "execution": {
     "iopub.execute_input": "2023-02-19T21:13:00.601745Z",
     "iopub.status.busy": "2023-02-19T21:13:00.600628Z",
     "iopub.status.idle": "2023-02-19T21:13:00.677937Z",
     "shell.execute_reply": "2023-02-19T21:13:00.676613Z"
    },
    "id": "pURmDEicWSPN",
    "papermill": {
     "duration": 0.098289,
     "end_time": "2023-02-19T21:13:00.680487",
     "exception": false,
     "start_time": "2023-02-19T21:13:00.582198",
     "status": "completed"
    },
    "tags": []
   },
   "outputs": [],
   "source": [
    "data.contract_type.unique()\n",
    "data[\"contract_type\"] = data[\"contract_type\"].map({\"default\":0, \"own\":1})"
   ]
  },
  {
   "cell_type": "markdown",
   "id": "f7605846",
   "metadata": {
    "papermill": {
     "duration": 0.015931,
     "end_time": "2023-02-19T21:13:00.712852",
     "exception": false,
     "start_time": "2023-02-19T21:13:00.696921",
     "status": "completed"
    },
    "tags": []
   },
   "source": [
    "Drop both the **last sale date** and **creation date**, we've extracted the required features from them"
   ]
  },
  {
   "cell_type": "code",
   "execution_count": 22,
   "id": "849dac73",
   "metadata": {
    "execution": {
     "iopub.execute_input": "2023-02-19T21:13:00.747210Z",
     "iopub.status.busy": "2023-02-19T21:13:00.746477Z",
     "iopub.status.idle": "2023-02-19T21:13:00.873303Z",
     "shell.execute_reply": "2023-02-19T21:13:00.871833Z"
    },
    "id": "fZyBDd2cYW9y",
    "papermill": {
     "duration": 0.147239,
     "end_time": "2023-02-19T21:13:00.876156",
     "exception": false,
     "start_time": "2023-02-19T21:13:00.728917",
     "status": "completed"
    },
    "tags": []
   },
   "outputs": [],
   "source": [
    "data = data.drop(columns = [\"last_sale_date\", \"creation_date\"], axis=1)"
   ]
  },
  {
   "cell_type": "markdown",
   "id": "3fb33d82",
   "metadata": {
    "papermill": {
     "duration": 0.016295,
     "end_time": "2023-02-19T21:13:00.908834",
     "exception": false,
     "start_time": "2023-02-19T21:13:00.892539",
     "status": "completed"
    },
    "tags": []
   },
   "source": [
    "quick peek at what the contract type raw data looks like"
   ]
  },
  {
   "cell_type": "code",
   "execution_count": 23,
   "id": "c918f25d",
   "metadata": {
    "execution": {
     "iopub.execute_input": "2023-02-19T21:13:00.942894Z",
     "iopub.status.busy": "2023-02-19T21:13:00.942436Z",
     "iopub.status.idle": "2023-02-19T21:13:00.951128Z",
     "shell.execute_reply": "2023-02-19T21:13:00.949978Z"
    },
    "id": "fwAr6H3mQBRA",
    "outputId": "20d26837-6a8f-4b57-d186-cf3ea0ac6634",
    "papermill": {
     "duration": 0.028209,
     "end_time": "2023-02-19T21:13:00.953286",
     "exception": false,
     "start_time": "2023-02-19T21:13:00.925077",
     "status": "completed"
    },
    "tags": []
   },
   "outputs": [
    {
     "data": {
      "text/plain": [
       "0         1\n",
       "1         1\n",
       "2         1\n",
       "3         1\n",
       "4         1\n",
       "         ..\n",
       "491119    0\n",
       "491120    0\n",
       "491121    0\n",
       "491122    0\n",
       "491123    0\n",
       "Name: contract_type, Length: 491124, dtype: int64"
      ]
     },
     "execution_count": 23,
     "metadata": {},
     "output_type": "execute_result"
    }
   ],
   "source": [
    "data[\"contract_type\"]"
   ]
  },
  {
   "cell_type": "code",
   "execution_count": 24,
   "id": "7b2e6dd6",
   "metadata": {
    "execution": {
     "iopub.execute_input": "2023-02-19T21:13:00.987564Z",
     "iopub.status.busy": "2023-02-19T21:13:00.987111Z",
     "iopub.status.idle": "2023-02-19T21:13:00.995010Z",
     "shell.execute_reply": "2023-02-19T21:13:00.993937Z"
    },
    "id": "_OWD8Ve4TsrZ",
    "outputId": "8200f1f6-24b4-43e5-833e-b1bc74f0d6c3",
    "papermill": {
     "duration": 0.027615,
     "end_time": "2023-02-19T21:13:00.997247",
     "exception": false,
     "start_time": "2023-02-19T21:13:00.969632",
     "status": "completed"
    },
    "tags": []
   },
   "outputs": [
    {
     "data": {
      "text/plain": [
       "((181214, 8), (309910, 8))"
      ]
     },
     "execution_count": 24,
     "metadata": {},
     "output_type": "execute_result"
    }
   ],
   "source": [
    "test.shape, train.shape # Check out the true train and test shape"
   ]
  },
  {
   "cell_type": "code",
   "execution_count": 25,
   "id": "370e78f6",
   "metadata": {
    "execution": {
     "iopub.execute_input": "2023-02-19T21:13:01.032039Z",
     "iopub.status.busy": "2023-02-19T21:13:01.031600Z",
     "iopub.status.idle": "2023-02-19T21:13:01.079347Z",
     "shell.execute_reply": "2023-02-19T21:13:01.078379Z"
    },
    "id": "pdcL4mzfUITu",
    "outputId": "18da70ae-3754-4170-c13d-d28d4b9c9485",
    "papermill": {
     "duration": 0.068138,
     "end_time": "2023-02-19T21:13:01.082030",
     "exception": false,
     "start_time": "2023-02-19T21:13:01.013892",
     "status": "completed"
    },
    "tags": []
   },
   "outputs": [
    {
     "name": "stdout",
     "output_type": "stream",
     "text": [
      "<class 'pandas.core.frame.DataFrame'>\n",
      "Int64Index: 491124 entries, 0 to 491123\n",
      "Data columns (total 34 columns):\n",
      " #   Column                Non-Null Count   Dtype  \n",
      "---  ------                --------------   -----  \n",
      " 0   index                 491124 non-null  int64  \n",
      " 1   global_index          491124 non-null  int64  \n",
      " 2   nft_id                491124 non-null  int64  \n",
      " 3   collection_id         491124 non-null  int64  \n",
      " 4   rarity_score          491124 non-null  float64\n",
      " 5   openrarity_score      119106 non-null  float64\n",
      " 6   openrarity_rank       119106 non-null  float64\n",
      " 7   openrarity_max_rank   119106 non-null  float64\n",
      " 8   total_supply          491124 non-null  int64  \n",
      " 9   verification_status   491124 non-null  int64  \n",
      " 10  n_of_traits           491124 non-null  int64  \n",
      " 11  contract_type         491124 non-null  int64  \n",
      " 12  seller_fees           458431 non-null  float64\n",
      " 13  platform_fees         491124 non-null  int64  \n",
      " 14  openrarity_enabled    491124 non-null  int64  \n",
      " 15  has_website           491124 non-null  int64  \n",
      " 16  has_own_twitter       491124 non-null  int64  \n",
      " 17  has_discord           491124 non-null  int64  \n",
      " 18  has_medium            491124 non-null  int64  \n",
      " 19  n_tweets_in_range     491124 non-null  int64  \n",
      " 20  avg_likes             491124 non-null  float64\n",
      " 21  avg_replies           491124 non-null  float64\n",
      " 22  avg_retweets          491124 non-null  float64\n",
      " 23  min_likes             491124 non-null  int64  \n",
      " 24  min_replies           491124 non-null  int64  \n",
      " 25  min_retweets          491124 non-null  int64  \n",
      " 26  max_likes             491124 non-null  int64  \n",
      " 27  max_replies           491124 non-null  int64  \n",
      " 28  max_retweets          491124 non-null  int64  \n",
      " 29  creation_date_year    491124 non-null  int64  \n",
      " 30  last_sale_date_year   491124 non-null  int64  \n",
      " 31  last_sale_date_month  491124 non-null  int64  \n",
      " 32  diff_days             491124 non-null  int64  \n",
      " 33  has_all               491124 non-null  int64  \n",
      "dtypes: float64(8), int64(26)\n",
      "memory usage: 131.1 MB\n"
     ]
    }
   ],
   "source": [
    "data.info() # view data info"
   ]
  },
  {
   "cell_type": "code",
   "execution_count": 26,
   "id": "7c5d55b0",
   "metadata": {
    "execution": {
     "iopub.execute_input": "2023-02-19T21:13:01.117425Z",
     "iopub.status.busy": "2023-02-19T21:13:01.116631Z",
     "iopub.status.idle": "2023-02-19T21:13:01.161805Z",
     "shell.execute_reply": "2023-02-19T21:13:01.160431Z"
    },
    "id": "BDT_pknOcTbR",
    "papermill": {
     "duration": 0.065313,
     "end_time": "2023-02-19T21:13:01.164023",
     "exception": false,
     "start_time": "2023-02-19T21:13:01.098710",
     "status": "completed"
    },
    "tags": []
   },
   "outputs": [],
   "source": [
    "data = data.drop(columns = [\"index\"])"
   ]
  },
  {
   "cell_type": "code",
   "execution_count": 27,
   "id": "2e806877",
   "metadata": {
    "execution": {
     "iopub.execute_input": "2023-02-19T21:13:01.199161Z",
     "iopub.status.busy": "2023-02-19T21:13:01.198780Z",
     "iopub.status.idle": "2023-02-19T21:13:01.234436Z",
     "shell.execute_reply": "2023-02-19T21:13:01.233372Z"
    },
    "id": "HfT0hrDcgKsj",
    "outputId": "59bc4586-5035-47bf-f2a0-f7b2e45cf3bd",
    "papermill": {
     "duration": 0.056067,
     "end_time": "2023-02-19T21:13:01.236844",
     "exception": false,
     "start_time": "2023-02-19T21:13:01.180777",
     "status": "completed"
    },
    "tags": []
   },
   "outputs": [
    {
     "data": {
      "text/html": [
       "<div>\n",
       "<style scoped>\n",
       "    .dataframe tbody tr th:only-of-type {\n",
       "        vertical-align: middle;\n",
       "    }\n",
       "\n",
       "    .dataframe tbody tr th {\n",
       "        vertical-align: top;\n",
       "    }\n",
       "\n",
       "    .dataframe thead th {\n",
       "        text-align: right;\n",
       "    }\n",
       "</style>\n",
       "<table border=\"1\" class=\"dataframe\">\n",
       "  <thead>\n",
       "    <tr style=\"text-align: right;\">\n",
       "      <th></th>\n",
       "      <th>avg_replies</th>\n",
       "      <th>avg_retweets</th>\n",
       "      <th>min_likes</th>\n",
       "      <th>min_replies</th>\n",
       "      <th>min_retweets</th>\n",
       "      <th>max_likes</th>\n",
       "      <th>max_replies</th>\n",
       "      <th>max_retweets</th>\n",
       "      <th>creation_date_year</th>\n",
       "      <th>last_sale_date_year</th>\n",
       "      <th>last_sale_date_month</th>\n",
       "      <th>diff_days</th>\n",
       "      <th>has_all</th>\n",
       "    </tr>\n",
       "  </thead>\n",
       "  <tbody>\n",
       "    <tr>\n",
       "      <th>0</th>\n",
       "      <td>8.290323</td>\n",
       "      <td>60.935484</td>\n",
       "      <td>0</td>\n",
       "      <td>0</td>\n",
       "      <td>2</td>\n",
       "      <td>591</td>\n",
       "      <td>28</td>\n",
       "      <td>380</td>\n",
       "      <td>4</td>\n",
       "      <td>2022</td>\n",
       "      <td>11</td>\n",
       "      <td>214</td>\n",
       "      <td>2</td>\n",
       "    </tr>\n",
       "    <tr>\n",
       "      <th>1</th>\n",
       "      <td>13.454545</td>\n",
       "      <td>55.181818</td>\n",
       "      <td>0</td>\n",
       "      <td>0</td>\n",
       "      <td>7</td>\n",
       "      <td>402</td>\n",
       "      <td>47</td>\n",
       "      <td>239</td>\n",
       "      <td>7</td>\n",
       "      <td>2021</td>\n",
       "      <td>8</td>\n",
       "      <td>31</td>\n",
       "      <td>2</td>\n",
       "    </tr>\n",
       "    <tr>\n",
       "      <th>2</th>\n",
       "      <td>13.454545</td>\n",
       "      <td>55.181818</td>\n",
       "      <td>0</td>\n",
       "      <td>0</td>\n",
       "      <td>7</td>\n",
       "      <td>402</td>\n",
       "      <td>47</td>\n",
       "      <td>239</td>\n",
       "      <td>7</td>\n",
       "      <td>2022</td>\n",
       "      <td>8</td>\n",
       "      <td>396</td>\n",
       "      <td>2</td>\n",
       "    </tr>\n",
       "    <tr>\n",
       "      <th>3</th>\n",
       "      <td>13.454545</td>\n",
       "      <td>55.181818</td>\n",
       "      <td>0</td>\n",
       "      <td>0</td>\n",
       "      <td>7</td>\n",
       "      <td>402</td>\n",
       "      <td>47</td>\n",
       "      <td>239</td>\n",
       "      <td>7</td>\n",
       "      <td>2021</td>\n",
       "      <td>8</td>\n",
       "      <td>31</td>\n",
       "      <td>2</td>\n",
       "    </tr>\n",
       "    <tr>\n",
       "      <th>4</th>\n",
       "      <td>13.454545</td>\n",
       "      <td>55.181818</td>\n",
       "      <td>0</td>\n",
       "      <td>0</td>\n",
       "      <td>7</td>\n",
       "      <td>402</td>\n",
       "      <td>47</td>\n",
       "      <td>239</td>\n",
       "      <td>7</td>\n",
       "      <td>2022</td>\n",
       "      <td>9</td>\n",
       "      <td>427</td>\n",
       "      <td>2</td>\n",
       "    </tr>\n",
       "    <tr>\n",
       "      <th>...</th>\n",
       "      <td>...</td>\n",
       "      <td>...</td>\n",
       "      <td>...</td>\n",
       "      <td>...</td>\n",
       "      <td>...</td>\n",
       "      <td>...</td>\n",
       "      <td>...</td>\n",
       "      <td>...</td>\n",
       "      <td>...</td>\n",
       "      <td>...</td>\n",
       "      <td>...</td>\n",
       "      <td>...</td>\n",
       "      <td>...</td>\n",
       "    </tr>\n",
       "    <tr>\n",
       "      <th>491119</th>\n",
       "      <td>0.302395</td>\n",
       "      <td>0.314371</td>\n",
       "      <td>0</td>\n",
       "      <td>0</td>\n",
       "      <td>0</td>\n",
       "      <td>80</td>\n",
       "      <td>6</td>\n",
       "      <td>13</td>\n",
       "      <td>1</td>\n",
       "      <td>2021</td>\n",
       "      <td>4</td>\n",
       "      <td>90</td>\n",
       "      <td>3</td>\n",
       "    </tr>\n",
       "    <tr>\n",
       "      <th>491120</th>\n",
       "      <td>0.302395</td>\n",
       "      <td>0.314371</td>\n",
       "      <td>0</td>\n",
       "      <td>0</td>\n",
       "      <td>0</td>\n",
       "      <td>80</td>\n",
       "      <td>6</td>\n",
       "      <td>13</td>\n",
       "      <td>1</td>\n",
       "      <td>2021</td>\n",
       "      <td>4</td>\n",
       "      <td>90</td>\n",
       "      <td>3</td>\n",
       "    </tr>\n",
       "    <tr>\n",
       "      <th>491121</th>\n",
       "      <td>0.302395</td>\n",
       "      <td>0.314371</td>\n",
       "      <td>0</td>\n",
       "      <td>0</td>\n",
       "      <td>0</td>\n",
       "      <td>80</td>\n",
       "      <td>6</td>\n",
       "      <td>13</td>\n",
       "      <td>1</td>\n",
       "      <td>2021</td>\n",
       "      <td>4</td>\n",
       "      <td>90</td>\n",
       "      <td>3</td>\n",
       "    </tr>\n",
       "    <tr>\n",
       "      <th>491122</th>\n",
       "      <td>0.302395</td>\n",
       "      <td>0.314371</td>\n",
       "      <td>0</td>\n",
       "      <td>0</td>\n",
       "      <td>0</td>\n",
       "      <td>80</td>\n",
       "      <td>6</td>\n",
       "      <td>13</td>\n",
       "      <td>1</td>\n",
       "      <td>2021</td>\n",
       "      <td>4</td>\n",
       "      <td>90</td>\n",
       "      <td>3</td>\n",
       "    </tr>\n",
       "    <tr>\n",
       "      <th>491123</th>\n",
       "      <td>0.302395</td>\n",
       "      <td>0.314371</td>\n",
       "      <td>0</td>\n",
       "      <td>0</td>\n",
       "      <td>0</td>\n",
       "      <td>80</td>\n",
       "      <td>6</td>\n",
       "      <td>13</td>\n",
       "      <td>1</td>\n",
       "      <td>2021</td>\n",
       "      <td>3</td>\n",
       "      <td>59</td>\n",
       "      <td>3</td>\n",
       "    </tr>\n",
       "  </tbody>\n",
       "</table>\n",
       "<p>491124 rows × 13 columns</p>\n",
       "</div>"
      ],
      "text/plain": [
       "        avg_replies  avg_retweets  min_likes  min_replies  min_retweets  \\\n",
       "0          8.290323     60.935484          0            0             2   \n",
       "1         13.454545     55.181818          0            0             7   \n",
       "2         13.454545     55.181818          0            0             7   \n",
       "3         13.454545     55.181818          0            0             7   \n",
       "4         13.454545     55.181818          0            0             7   \n",
       "...             ...           ...        ...          ...           ...   \n",
       "491119     0.302395      0.314371          0            0             0   \n",
       "491120     0.302395      0.314371          0            0             0   \n",
       "491121     0.302395      0.314371          0            0             0   \n",
       "491122     0.302395      0.314371          0            0             0   \n",
       "491123     0.302395      0.314371          0            0             0   \n",
       "\n",
       "        max_likes  max_replies  max_retweets  creation_date_year  \\\n",
       "0             591           28           380                   4   \n",
       "1             402           47           239                   7   \n",
       "2             402           47           239                   7   \n",
       "3             402           47           239                   7   \n",
       "4             402           47           239                   7   \n",
       "...           ...          ...           ...                 ...   \n",
       "491119         80            6            13                   1   \n",
       "491120         80            6            13                   1   \n",
       "491121         80            6            13                   1   \n",
       "491122         80            6            13                   1   \n",
       "491123         80            6            13                   1   \n",
       "\n",
       "        last_sale_date_year  last_sale_date_month  diff_days  has_all  \n",
       "0                      2022                    11        214        2  \n",
       "1                      2021                     8         31        2  \n",
       "2                      2022                     8        396        2  \n",
       "3                      2021                     8         31        2  \n",
       "4                      2022                     9        427        2  \n",
       "...                     ...                   ...        ...      ...  \n",
       "491119                 2021                     4         90        3  \n",
       "491120                 2021                     4         90        3  \n",
       "491121                 2021                     4         90        3  \n",
       "491122                 2021                     4         90        3  \n",
       "491123                 2021                     3         59        3  \n",
       "\n",
       "[491124 rows x 13 columns]"
      ]
     },
     "execution_count": 27,
     "metadata": {},
     "output_type": "execute_result"
    }
   ],
   "source": [
    "data.iloc[0:,20:]"
   ]
  },
  {
   "cell_type": "markdown",
   "id": "1fed23e5",
   "metadata": {
    "papermill": {
     "duration": 0.017487,
     "end_time": "2023-02-19T21:13:01.271738",
     "exception": false,
     "start_time": "2023-02-19T21:13:01.254251",
     "status": "completed"
    },
    "tags": []
   },
   "source": [
    "###### Even More Engineering.\n",
    "\n",
    "Create Statistical Features for some specific columns.\n",
    "\n",
    "- Rarity score.\n",
    "- Total Supply.\n",
    "- Number of traits.\n",
    "- Seller Fees.\n",
    "- Platform Fees."
   ]
  },
  {
   "cell_type": "code",
   "execution_count": 28,
   "id": "03547476",
   "metadata": {
    "execution": {
     "iopub.execute_input": "2023-02-19T21:13:01.308995Z",
     "iopub.status.busy": "2023-02-19T21:13:01.307720Z",
     "iopub.status.idle": "2023-02-19T21:13:01.573004Z",
     "shell.execute_reply": "2023-02-19T21:13:01.571820Z"
    },
    "id": "zzRQBQl9cxZy",
    "papermill": {
     "duration": 0.286542,
     "end_time": "2023-02-19T21:13:01.575788",
     "exception": false,
     "start_time": "2023-02-19T21:13:01.289246",
     "status": "completed"
    },
    "tags": []
   },
   "outputs": [],
   "source": [
    "data_nft_stats = data.groupby(\"nft_id\").agg(\n",
    "             nft_rarity_score_min = ('rarity_score', 'min'),\n",
    "             nft_rarity_score_max = ('rarity_score', 'max'),\n",
    "             nft_rarity_score_mean = ('rarity_score', 'mean'), \n",
    "             nft_rarity_score_sum = ('rarity_score', 'sum'),\n",
    "             nft_rarity_score_std = ('rarity_score', 'std'),\n",
    "             nft_rarity_score_median = ('rarity_score', 'median'), \n",
    "\n",
    "             nft_total_supply_min = ('total_supply', 'min'),\n",
    "             nft_total_supply_max = ('total_supply', 'max'),\n",
    "             nft_total_supply_mean = ('total_supply', 'mean'), \n",
    "             nft_total_supply_sum = ('total_supply', 'sum'),\n",
    "             nft_total_supply_std = ('total_supply', 'std'),\n",
    "             nft_total_supply_median = ('total_supply', 'median'), \n",
    "\n",
    "             nft_n_of_traits_min = ('n_of_traits', 'min'),\n",
    "             nft_n_of_traits_max = ('n_of_traits', 'max'),\n",
    "             nft_n_of_traits_mean = ('n_of_traits', 'mean'), \n",
    "             nft_n_of_traits_sum = ('n_of_traits', 'sum'),\n",
    "             nft_n_of_traits_std = ('n_of_traits', 'std'),\n",
    "             nft_n_of_traits_median = ('n_of_traits', 'median'), \n",
    "\n",
    "             nft_seller_fees_min = ('seller_fees', 'min'),\n",
    "             nft_seller_fees_max = ('seller_fees', 'max'),\n",
    "             nft_seller_fees_mean = ('seller_fees', 'mean'), \n",
    "             nft_seller_fees_sum = ('seller_fees', 'sum'),\n",
    "             nft_seller_fees_std = ('seller_fees', 'std'),\n",
    "             nft_seller_fees_median = ('seller_fees', 'median'), \n",
    "\n",
    "             nft_platform_fees_min = ('platform_fees', 'min'),\n",
    "             nft_platform_fees_max = ('platform_fees', 'max'),\n",
    "             nft_platform_fees_mean = ('platform_fees', 'mean'), \n",
    "             nft_platform_fees_sum = ('platform_fees', 'sum'),\n",
    "             nft_platform_fees_std = ('platform_fees', 'std'),\n",
    "             nft_platform_fees_median = ('platform_fees', 'median'), \n",
    ").reset_index()"
   ]
  },
  {
   "cell_type": "code",
   "execution_count": 29,
   "id": "2685128a",
   "metadata": {
    "execution": {
     "iopub.execute_input": "2023-02-19T21:13:01.612147Z",
     "iopub.status.busy": "2023-02-19T21:13:01.611705Z",
     "iopub.status.idle": "2023-02-19T21:13:01.640711Z",
     "shell.execute_reply": "2023-02-19T21:13:01.639516Z"
    },
    "id": "uiHlfsLBhb8A",
    "outputId": "6b1f3c9f-21a1-4b2b-c364-0257a298f86e",
    "papermill": {
     "duration": 0.049645,
     "end_time": "2023-02-19T21:13:01.643005",
     "exception": false,
     "start_time": "2023-02-19T21:13:01.593360",
     "status": "completed"
    },
    "tags": []
   },
   "outputs": [
    {
     "data": {
      "text/html": [
       "<div>\n",
       "<style scoped>\n",
       "    .dataframe tbody tr th:only-of-type {\n",
       "        vertical-align: middle;\n",
       "    }\n",
       "\n",
       "    .dataframe tbody tr th {\n",
       "        vertical-align: top;\n",
       "    }\n",
       "\n",
       "    .dataframe thead th {\n",
       "        text-align: right;\n",
       "    }\n",
       "</style>\n",
       "<table border=\"1\" class=\"dataframe\">\n",
       "  <thead>\n",
       "    <tr style=\"text-align: right;\">\n",
       "      <th></th>\n",
       "      <th>nft_id</th>\n",
       "      <th>nft_rarity_score_min</th>\n",
       "      <th>nft_rarity_score_max</th>\n",
       "      <th>nft_rarity_score_mean</th>\n",
       "      <th>nft_rarity_score_sum</th>\n",
       "      <th>nft_rarity_score_std</th>\n",
       "      <th>nft_rarity_score_median</th>\n",
       "      <th>nft_total_supply_min</th>\n",
       "      <th>nft_total_supply_max</th>\n",
       "      <th>nft_total_supply_mean</th>\n",
       "      <th>...</th>\n",
       "      <th>nft_seller_fees_mean</th>\n",
       "      <th>nft_seller_fees_sum</th>\n",
       "      <th>nft_seller_fees_std</th>\n",
       "      <th>nft_seller_fees_median</th>\n",
       "      <th>nft_platform_fees_min</th>\n",
       "      <th>nft_platform_fees_max</th>\n",
       "      <th>nft_platform_fees_mean</th>\n",
       "      <th>nft_platform_fees_sum</th>\n",
       "      <th>nft_platform_fees_std</th>\n",
       "      <th>nft_platform_fees_median</th>\n",
       "    </tr>\n",
       "  </thead>\n",
       "  <tbody>\n",
       "    <tr>\n",
       "      <th>0</th>\n",
       "      <td>0</td>\n",
       "      <td>0.0</td>\n",
       "      <td>25823.0</td>\n",
       "      <td>1049.762075</td>\n",
       "      <td>50388.579586</td>\n",
       "      <td>4218.771691</td>\n",
       "      <td>165.291944</td>\n",
       "      <td>1</td>\n",
       "      <td>58351</td>\n",
       "      <td>10760.979167</td>\n",
       "      <td>...</td>\n",
       "      <td>711.956522</td>\n",
       "      <td>32750.0</td>\n",
       "      <td>243.626486</td>\n",
       "      <td>750.0</td>\n",
       "      <td>250</td>\n",
       "      <td>250</td>\n",
       "      <td>250.0</td>\n",
       "      <td>12000</td>\n",
       "      <td>0.0</td>\n",
       "      <td>250.0</td>\n",
       "    </tr>\n",
       "    <tr>\n",
       "      <th>1</th>\n",
       "      <td>1</td>\n",
       "      <td>0.0</td>\n",
       "      <td>44268.0</td>\n",
       "      <td>1419.008385</td>\n",
       "      <td>66693.394077</td>\n",
       "      <td>6666.314548</td>\n",
       "      <td>171.000704</td>\n",
       "      <td>420</td>\n",
       "      <td>58351</td>\n",
       "      <td>10989.914894</td>\n",
       "      <td>...</td>\n",
       "      <td>705.555556</td>\n",
       "      <td>31750.0</td>\n",
       "      <td>242.436079</td>\n",
       "      <td>750.0</td>\n",
       "      <td>250</td>\n",
       "      <td>250</td>\n",
       "      <td>250.0</td>\n",
       "      <td>11750</td>\n",
       "      <td>0.0</td>\n",
       "      <td>250.0</td>\n",
       "    </tr>\n",
       "    <tr>\n",
       "      <th>2</th>\n",
       "      <td>2</td>\n",
       "      <td>0.0</td>\n",
       "      <td>25823.0</td>\n",
       "      <td>1016.603321</td>\n",
       "      <td>47780.356096</td>\n",
       "      <td>4082.520067</td>\n",
       "      <td>143.146201</td>\n",
       "      <td>420</td>\n",
       "      <td>58351</td>\n",
       "      <td>10989.914894</td>\n",
       "      <td>...</td>\n",
       "      <td>705.555556</td>\n",
       "      <td>31750.0</td>\n",
       "      <td>242.436079</td>\n",
       "      <td>750.0</td>\n",
       "      <td>250</td>\n",
       "      <td>250</td>\n",
       "      <td>250.0</td>\n",
       "      <td>11750</td>\n",
       "      <td>0.0</td>\n",
       "      <td>250.0</td>\n",
       "    </tr>\n",
       "    <tr>\n",
       "      <th>3</th>\n",
       "      <td>3</td>\n",
       "      <td>0.0</td>\n",
       "      <td>25823.0</td>\n",
       "      <td>1139.553739</td>\n",
       "      <td>53559.025727</td>\n",
       "      <td>4523.964696</td>\n",
       "      <td>170.658647</td>\n",
       "      <td>420</td>\n",
       "      <td>58351</td>\n",
       "      <td>10989.914894</td>\n",
       "      <td>...</td>\n",
       "      <td>705.555556</td>\n",
       "      <td>31750.0</td>\n",
       "      <td>242.436079</td>\n",
       "      <td>750.0</td>\n",
       "      <td>250</td>\n",
       "      <td>250</td>\n",
       "      <td>250.0</td>\n",
       "      <td>11750</td>\n",
       "      <td>0.0</td>\n",
       "      <td>250.0</td>\n",
       "    </tr>\n",
       "    <tr>\n",
       "      <th>4</th>\n",
       "      <td>4</td>\n",
       "      <td>0.0</td>\n",
       "      <td>25823.0</td>\n",
       "      <td>1032.623820</td>\n",
       "      <td>48533.319518</td>\n",
       "      <td>4110.028066</td>\n",
       "      <td>179.395901</td>\n",
       "      <td>420</td>\n",
       "      <td>58351</td>\n",
       "      <td>10989.914894</td>\n",
       "      <td>...</td>\n",
       "      <td>705.555556</td>\n",
       "      <td>31750.0</td>\n",
       "      <td>242.436079</td>\n",
       "      <td>750.0</td>\n",
       "      <td>250</td>\n",
       "      <td>250</td>\n",
       "      <td>250.0</td>\n",
       "      <td>11750</td>\n",
       "      <td>0.0</td>\n",
       "      <td>250.0</td>\n",
       "    </tr>\n",
       "  </tbody>\n",
       "</table>\n",
       "<p>5 rows × 31 columns</p>\n",
       "</div>"
      ],
      "text/plain": [
       "   nft_id  nft_rarity_score_min  nft_rarity_score_max  nft_rarity_score_mean  \\\n",
       "0       0                   0.0               25823.0            1049.762075   \n",
       "1       1                   0.0               44268.0            1419.008385   \n",
       "2       2                   0.0               25823.0            1016.603321   \n",
       "3       3                   0.0               25823.0            1139.553739   \n",
       "4       4                   0.0               25823.0            1032.623820   \n",
       "\n",
       "   nft_rarity_score_sum  nft_rarity_score_std  nft_rarity_score_median  \\\n",
       "0          50388.579586           4218.771691               165.291944   \n",
       "1          66693.394077           6666.314548               171.000704   \n",
       "2          47780.356096           4082.520067               143.146201   \n",
       "3          53559.025727           4523.964696               170.658647   \n",
       "4          48533.319518           4110.028066               179.395901   \n",
       "\n",
       "   nft_total_supply_min  nft_total_supply_max  nft_total_supply_mean  ...  \\\n",
       "0                     1                 58351           10760.979167  ...   \n",
       "1                   420                 58351           10989.914894  ...   \n",
       "2                   420                 58351           10989.914894  ...   \n",
       "3                   420                 58351           10989.914894  ...   \n",
       "4                   420                 58351           10989.914894  ...   \n",
       "\n",
       "   nft_seller_fees_mean  nft_seller_fees_sum  nft_seller_fees_std  \\\n",
       "0            711.956522              32750.0           243.626486   \n",
       "1            705.555556              31750.0           242.436079   \n",
       "2            705.555556              31750.0           242.436079   \n",
       "3            705.555556              31750.0           242.436079   \n",
       "4            705.555556              31750.0           242.436079   \n",
       "\n",
       "   nft_seller_fees_median  nft_platform_fees_min  nft_platform_fees_max  \\\n",
       "0                   750.0                    250                    250   \n",
       "1                   750.0                    250                    250   \n",
       "2                   750.0                    250                    250   \n",
       "3                   750.0                    250                    250   \n",
       "4                   750.0                    250                    250   \n",
       "\n",
       "   nft_platform_fees_mean  nft_platform_fees_sum  nft_platform_fees_std  \\\n",
       "0                   250.0                  12000                    0.0   \n",
       "1                   250.0                  11750                    0.0   \n",
       "2                   250.0                  11750                    0.0   \n",
       "3                   250.0                  11750                    0.0   \n",
       "4                   250.0                  11750                    0.0   \n",
       "\n",
       "   nft_platform_fees_median  \n",
       "0                     250.0  \n",
       "1                     250.0  \n",
       "2                     250.0  \n",
       "3                     250.0  \n",
       "4                     250.0  \n",
       "\n",
       "[5 rows x 31 columns]"
      ]
     },
     "execution_count": 29,
     "metadata": {},
     "output_type": "execute_result"
    }
   ],
   "source": [
    "data_nft_stats.head() #peek at the head"
   ]
  },
  {
   "cell_type": "code",
   "execution_count": 30,
   "id": "5b764b30",
   "metadata": {
    "execution": {
     "iopub.execute_input": "2023-02-19T21:13:01.680340Z",
     "iopub.status.busy": "2023-02-19T21:13:01.679923Z",
     "iopub.status.idle": "2023-02-19T21:13:02.615789Z",
     "shell.execute_reply": "2023-02-19T21:13:02.614569Z"
    },
    "id": "-UkqexqVhn9R",
    "papermill": {
     "duration": 0.957687,
     "end_time": "2023-02-19T21:13:02.618396",
     "exception": false,
     "start_time": "2023-02-19T21:13:01.660709",
     "status": "completed"
    },
    "tags": []
   },
   "outputs": [],
   "source": [
    "data = data.merge(data_nft_stats, how='left', on='nft_id') #combine new features to the dataset"
   ]
  },
  {
   "cell_type": "code",
   "execution_count": 31,
   "id": "2bab5432",
   "metadata": {
    "execution": {
     "iopub.execute_input": "2023-02-19T21:13:02.655234Z",
     "iopub.status.busy": "2023-02-19T21:13:02.654831Z",
     "iopub.status.idle": "2023-02-19T21:13:02.679831Z",
     "shell.execute_reply": "2023-02-19T21:13:02.678719Z"
    },
    "id": "_Nm8gdWJiRrx",
    "outputId": "0270118f-0784-41c7-d57e-5a9acec703ec",
    "papermill": {
     "duration": 0.046909,
     "end_time": "2023-02-19T21:13:02.682995",
     "exception": false,
     "start_time": "2023-02-19T21:13:02.636086",
     "status": "completed"
    },
    "tags": []
   },
   "outputs": [
    {
     "data": {
      "text/html": [
       "<div>\n",
       "<style scoped>\n",
       "    .dataframe tbody tr th:only-of-type {\n",
       "        vertical-align: middle;\n",
       "    }\n",
       "\n",
       "    .dataframe tbody tr th {\n",
       "        vertical-align: top;\n",
       "    }\n",
       "\n",
       "    .dataframe thead th {\n",
       "        text-align: right;\n",
       "    }\n",
       "</style>\n",
       "<table border=\"1\" class=\"dataframe\">\n",
       "  <thead>\n",
       "    <tr style=\"text-align: right;\">\n",
       "      <th></th>\n",
       "      <th>global_index</th>\n",
       "      <th>nft_id</th>\n",
       "      <th>collection_id</th>\n",
       "      <th>rarity_score</th>\n",
       "      <th>openrarity_score</th>\n",
       "      <th>openrarity_rank</th>\n",
       "      <th>openrarity_max_rank</th>\n",
       "      <th>total_supply</th>\n",
       "      <th>verification_status</th>\n",
       "      <th>n_of_traits</th>\n",
       "      <th>...</th>\n",
       "      <th>nft_seller_fees_mean</th>\n",
       "      <th>nft_seller_fees_sum</th>\n",
       "      <th>nft_seller_fees_std</th>\n",
       "      <th>nft_seller_fees_median</th>\n",
       "      <th>nft_platform_fees_min</th>\n",
       "      <th>nft_platform_fees_max</th>\n",
       "      <th>nft_platform_fees_mean</th>\n",
       "      <th>nft_platform_fees_sum</th>\n",
       "      <th>nft_platform_fees_std</th>\n",
       "      <th>nft_platform_fees_median</th>\n",
       "    </tr>\n",
       "  </thead>\n",
       "  <tbody>\n",
       "    <tr>\n",
       "      <th>0</th>\n",
       "      <td>21928</td>\n",
       "      <td>0</td>\n",
       "      <td>49</td>\n",
       "      <td>2.000000</td>\n",
       "      <td>NaN</td>\n",
       "      <td>NaN</td>\n",
       "      <td>NaN</td>\n",
       "      <td>1</td>\n",
       "      <td>3</td>\n",
       "      <td>2</td>\n",
       "      <td>...</td>\n",
       "      <td>711.956522</td>\n",
       "      <td>32750.0</td>\n",
       "      <td>243.626486</td>\n",
       "      <td>750.0</td>\n",
       "      <td>250</td>\n",
       "      <td>250</td>\n",
       "      <td>250.0</td>\n",
       "      <td>12000</td>\n",
       "      <td>0.0</td>\n",
       "      <td>250.0</td>\n",
       "    </tr>\n",
       "    <tr>\n",
       "      <th>1</th>\n",
       "      <td>32621</td>\n",
       "      <td>0</td>\n",
       "      <td>45</td>\n",
       "      <td>97.077216</td>\n",
       "      <td>NaN</td>\n",
       "      <td>NaN</td>\n",
       "      <td>NaN</td>\n",
       "      <td>8888</td>\n",
       "      <td>3</td>\n",
       "      <td>5</td>\n",
       "      <td>...</td>\n",
       "      <td>711.956522</td>\n",
       "      <td>32750.0</td>\n",
       "      <td>243.626486</td>\n",
       "      <td>750.0</td>\n",
       "      <td>250</td>\n",
       "      <td>250</td>\n",
       "      <td>250.0</td>\n",
       "      <td>12000</td>\n",
       "      <td>0.0</td>\n",
       "      <td>250.0</td>\n",
       "    </tr>\n",
       "    <tr>\n",
       "      <th>2</th>\n",
       "      <td>32622</td>\n",
       "      <td>1</td>\n",
       "      <td>45</td>\n",
       "      <td>139.453086</td>\n",
       "      <td>NaN</td>\n",
       "      <td>NaN</td>\n",
       "      <td>NaN</td>\n",
       "      <td>8888</td>\n",
       "      <td>3</td>\n",
       "      <td>5</td>\n",
       "      <td>...</td>\n",
       "      <td>705.555556</td>\n",
       "      <td>31750.0</td>\n",
       "      <td>242.436079</td>\n",
       "      <td>750.0</td>\n",
       "      <td>250</td>\n",
       "      <td>250</td>\n",
       "      <td>250.0</td>\n",
       "      <td>11750</td>\n",
       "      <td>0.0</td>\n",
       "      <td>250.0</td>\n",
       "    </tr>\n",
       "    <tr>\n",
       "      <th>3</th>\n",
       "      <td>32623</td>\n",
       "      <td>2</td>\n",
       "      <td>45</td>\n",
       "      <td>127.753445</td>\n",
       "      <td>NaN</td>\n",
       "      <td>NaN</td>\n",
       "      <td>NaN</td>\n",
       "      <td>8888</td>\n",
       "      <td>3</td>\n",
       "      <td>5</td>\n",
       "      <td>...</td>\n",
       "      <td>705.555556</td>\n",
       "      <td>31750.0</td>\n",
       "      <td>242.436079</td>\n",
       "      <td>750.0</td>\n",
       "      <td>250</td>\n",
       "      <td>250</td>\n",
       "      <td>250.0</td>\n",
       "      <td>11750</td>\n",
       "      <td>0.0</td>\n",
       "      <td>250.0</td>\n",
       "    </tr>\n",
       "    <tr>\n",
       "      <th>4</th>\n",
       "      <td>32624</td>\n",
       "      <td>3</td>\n",
       "      <td>45</td>\n",
       "      <td>112.315719</td>\n",
       "      <td>NaN</td>\n",
       "      <td>NaN</td>\n",
       "      <td>NaN</td>\n",
       "      <td>8888</td>\n",
       "      <td>3</td>\n",
       "      <td>5</td>\n",
       "      <td>...</td>\n",
       "      <td>705.555556</td>\n",
       "      <td>31750.0</td>\n",
       "      <td>242.436079</td>\n",
       "      <td>750.0</td>\n",
       "      <td>250</td>\n",
       "      <td>250</td>\n",
       "      <td>250.0</td>\n",
       "      <td>11750</td>\n",
       "      <td>0.0</td>\n",
       "      <td>250.0</td>\n",
       "    </tr>\n",
       "  </tbody>\n",
       "</table>\n",
       "<p>5 rows × 63 columns</p>\n",
       "</div>"
      ],
      "text/plain": [
       "   global_index  nft_id  collection_id  rarity_score  openrarity_score  \\\n",
       "0         21928       0             49      2.000000               NaN   \n",
       "1         32621       0             45     97.077216               NaN   \n",
       "2         32622       1             45    139.453086               NaN   \n",
       "3         32623       2             45    127.753445               NaN   \n",
       "4         32624       3             45    112.315719               NaN   \n",
       "\n",
       "   openrarity_rank  openrarity_max_rank  total_supply  verification_status  \\\n",
       "0              NaN                  NaN             1                    3   \n",
       "1              NaN                  NaN          8888                    3   \n",
       "2              NaN                  NaN          8888                    3   \n",
       "3              NaN                  NaN          8888                    3   \n",
       "4              NaN                  NaN          8888                    3   \n",
       "\n",
       "   n_of_traits  ...  nft_seller_fees_mean  nft_seller_fees_sum  \\\n",
       "0            2  ...            711.956522              32750.0   \n",
       "1            5  ...            711.956522              32750.0   \n",
       "2            5  ...            705.555556              31750.0   \n",
       "3            5  ...            705.555556              31750.0   \n",
       "4            5  ...            705.555556              31750.0   \n",
       "\n",
       "   nft_seller_fees_std  nft_seller_fees_median  nft_platform_fees_min  \\\n",
       "0           243.626486                   750.0                    250   \n",
       "1           243.626486                   750.0                    250   \n",
       "2           242.436079                   750.0                    250   \n",
       "3           242.436079                   750.0                    250   \n",
       "4           242.436079                   750.0                    250   \n",
       "\n",
       "   nft_platform_fees_max  nft_platform_fees_mean  nft_platform_fees_sum  \\\n",
       "0                    250                   250.0                  12000   \n",
       "1                    250                   250.0                  12000   \n",
       "2                    250                   250.0                  11750   \n",
       "3                    250                   250.0                  11750   \n",
       "4                    250                   250.0                  11750   \n",
       "\n",
       "   nft_platform_fees_std  nft_platform_fees_median  \n",
       "0                    0.0                     250.0  \n",
       "1                    0.0                     250.0  \n",
       "2                    0.0                     250.0  \n",
       "3                    0.0                     250.0  \n",
       "4                    0.0                     250.0  \n",
       "\n",
       "[5 rows x 63 columns]"
      ]
     },
     "execution_count": 31,
     "metadata": {},
     "output_type": "execute_result"
    }
   ],
   "source": [
    "data.head()"
   ]
  },
  {
   "cell_type": "markdown",
   "id": "018bb677",
   "metadata": {
    "execution": {
     "iopub.execute_input": "2023-02-15T15:36:49.444865Z",
     "iopub.status.busy": "2023-02-15T15:36:49.444439Z",
     "iopub.status.idle": "2023-02-15T15:36:49.449031Z",
     "shell.execute_reply": "2023-02-15T15:36:49.448007Z"
    },
    "id": "mL0GRr5CXJ4A",
    "papermill": {
     "duration": 0.017521,
     "end_time": "2023-02-19T21:13:02.718844",
     "exception": false,
     "start_time": "2023-02-19T21:13:02.701323",
     "status": "completed"
    },
    "tags": []
   },
   "source": [
    "###### Settling\n",
    "\n",
    "Split back the train and test dataset."
   ]
  },
  {
   "cell_type": "code",
   "execution_count": 32,
   "id": "f041b85a",
   "metadata": {
    "execution": {
     "iopub.execute_input": "2023-02-19T21:13:02.756420Z",
     "iopub.status.busy": "2023-02-19T21:13:02.756043Z",
     "iopub.status.idle": "2023-02-19T21:13:02.764776Z",
     "shell.execute_reply": "2023-02-19T21:13:02.763627Z"
    },
    "id": "xBirvQe9TIUB",
    "outputId": "12a6adcf-cd8a-41f2-b483-4be2f1c6399c",
    "papermill": {
     "duration": 0.030062,
     "end_time": "2023-02-19T21:13:02.766845",
     "exception": false,
     "start_time": "2023-02-19T21:13:02.736783",
     "status": "completed"
    },
    "tags": []
   },
   "outputs": [
    {
     "data": {
      "text/plain": [
       "((309910, 63), (181214, 63))"
      ]
     },
     "execution_count": 32,
     "metadata": {},
     "output_type": "execute_result"
    }
   ],
   "source": [
    "# Separate train and test data from the combined dataframe\n",
    "df_train = data[:train.shape[0]]\n",
    "df_test = data[train.shape[0]:]\n",
    "\n",
    "X = df_train\n",
    "y = target\n",
    "\n",
    "# Check the shapes of the split dataset\n",
    "df_train.shape, df_test.shape"
   ]
  },
  {
   "cell_type": "markdown",
   "id": "d82276dd",
   "metadata": {
    "papermill": {
     "duration": 0.017818,
     "end_time": "2023-02-19T21:13:02.802704",
     "exception": false,
     "start_time": "2023-02-19T21:13:02.784886",
     "status": "completed"
    },
    "tags": []
   },
   "source": [
    "###### Quick Insight.\n",
    "\n",
    "Just before training, I checked out the skewed nature of the target variable. I also apply a logarithmic transformation and visualize both side by side"
   ]
  },
  {
   "cell_type": "code",
   "execution_count": 33,
   "id": "9446cc52",
   "metadata": {
    "execution": {
     "iopub.execute_input": "2023-02-19T21:13:02.840914Z",
     "iopub.status.busy": "2023-02-19T21:13:02.840261Z",
     "iopub.status.idle": "2023-02-19T21:13:05.942608Z",
     "shell.execute_reply": "2023-02-19T21:13:05.941370Z"
    },
    "id": "LtlkTVAAUa_C",
    "outputId": "74f6b2f0-25ff-40a9-cf4b-d7c9a48f161e",
    "papermill": {
     "duration": 3.124463,
     "end_time": "2023-02-19T21:13:05.945368",
     "exception": false,
     "start_time": "2023-02-19T21:13:02.820905",
     "status": "completed"
    },
    "tags": []
   },
   "outputs": [
    {
     "data": {
      "image/png": "[encoded data removed]",
      "text/plain": [
       "<Figure size 640x480 with 2 Axes>"
      ]
     },
     "metadata": {},
     "output_type": "display_data"
    }
   ],
   "source": [
    "sns.set()\n",
    "y=target\n",
    "y_transformed = pd.Series(np.log1p(y))\n",
    "\n",
    "fig, ax = plt.subplots(1, 2)\n",
    "sns.distplot(y, ax=ax[0])\n",
    "\n",
    "plt.title(\"Target after Log transformation\")\n",
    "\n",
    "sns.distplot(y_transformed, ax=ax[1])\n",
    "plt.show()"
   ]
  },
  {
   "cell_type": "markdown",
   "id": "685c33e0",
   "metadata": {
    "papermill": {
     "duration": 0.018189,
     "end_time": "2023-02-19T21:13:05.982289",
     "exception": false,
     "start_time": "2023-02-19T21:13:05.964100",
     "status": "completed"
    },
    "tags": []
   },
   "source": [
    "###### Training."
   ]
  },
  {
   "cell_type": "markdown",
   "id": "7991fb55",
   "metadata": {
    "papermill": {
     "duration": 0.01833,
     "end_time": "2023-02-19T21:13:06.019398",
     "exception": false,
     "start_time": "2023-02-19T21:13:06.001068",
     "status": "completed"
    },
    "tags": []
   },
   "source": [
    "Import the required libraries needed, you can also move all imports to the top, depending on your preference."
   ]
  },
  {
   "cell_type": "markdown",
   "id": "bda3e0fa",
   "metadata": {
    "papermill": {
     "duration": 0.018144,
     "end_time": "2023-02-19T21:13:06.056020",
     "exception": false,
     "start_time": "2023-02-19T21:13:06.037876",
     "status": "completed"
    },
    "tags": []
   },
   "source": [
    "What's going on here?\n",
    "\n",
    "This is where I perform traing and inference. I utilize the Catboost model after testing several other models. I also pass in my hyperparameters after testing several bunch of parameters. Finally, I create a 16 fold cross validation split where i train on the transformed label and undo the transformation after inference to get back the truth.\n",
    "\n",
    "At the end, I take the mean of my predictions and push for a submission. This bagged me my highest Public score of 0.9367."
   ]
  },
  {
   "cell_type": "code",
   "execution_count": 34,
   "id": "703ade2a",
   "metadata": {
    "execution": {
     "iopub.execute_input": "2023-02-19T21:13:06.095111Z",
     "iopub.status.busy": "2023-02-19T21:13:06.094679Z",
     "iopub.status.idle": "2023-02-19T21:13:06.099072Z",
     "shell.execute_reply": "2023-02-19T21:13:06.098122Z"
    },
    "id": "bHqqFO8uWFg-",
    "papermill": {
     "duration": 0.026448,
     "end_time": "2023-02-19T21:13:06.101128",
     "exception": false,
     "start_time": "2023-02-19T21:13:06.074680",
     "status": "completed"
    },
    "tags": []
   },
   "outputs": [],
   "source": [
    "from sklearn.metrics import mean_absolute_error, mean_squared_error\n",
    "from sklearn.model_selection import KFold"
   ]
  },
  {
   "cell_type": "code",
   "execution_count": 35,
   "id": "fbe15bde",
   "metadata": {
    "execution": {
     "iopub.execute_input": "2023-02-19T21:13:06.150238Z",
     "iopub.status.busy": "2023-02-19T21:13:06.149568Z",
     "iopub.status.idle": "2023-02-19T23:10:50.771100Z",
     "shell.execute_reply": "2023-02-19T23:10:50.769781Z"
    },
    "id": "YN-4NJ5anDiJ",
    "outputId": "fcb5800e-f91b-4325-d2b1-e33f953ebcb3",
    "papermill": {
     "duration": 7064.64942,
     "end_time": "2023-02-19T23:10:50.773586",
     "exception": false,
     "start_time": "2023-02-19T21:13:06.124166",
     "status": "completed"
    },
    "tags": []
   },
   "outputs": [
    {
     "name": "stdout",
     "output_type": "stream",
     "text": [
      "err:  8.98539993729327\n",
      "err:  8.899906991165546\n",
      "err:  8.424553107727748\n",
      "err:  7.063790895382252\n",
      "err:  9.695621703221061\n",
      "err:  9.383757927317381\n",
      "err:  11.220961542785828\n",
      "err:  8.888607720161785\n",
      "err:  11.07442194763054\n",
      "err:  7.339152477567926\n",
      "err:  6.792567597817056\n",
      "err:  9.557306255624537\n",
      "err:  7.967178271575981\n",
      "err:  9.776802529430041\n",
      "err:  7.77844475827965\n",
      "err:  7.128816483522865\n",
      "8.748580634156466\n"
     ]
    }
   ],
   "source": [
    "fold_pred=[]   # a list where I keep out of fold predictions\n",
    "oof_pred = []  # a list where I keep track of the scores per fold.\n",
    "\n",
    "\n",
    "\n",
    "\n",
    "# Set Hyperparameters.\n",
    "\n",
    "params = {\n",
    " 'learning_rate': 0.163251453473545997,\n",
    " 'max_depth': 14,\n",
    " 'subsample': 0.6530887571489526}\n",
    "\n",
    "\n",
    "# Create a Kfold with 16 splits. Set the random state to 2023.\n",
    "\n",
    "fold= KFold(n_splits=16, shuffle=True, random_state = 2023)\n",
    "i=1\n",
    "for train_index, test_index in fold.split(X,y):     \n",
    "  \n",
    "    X_train, X_test = X.iloc[train_index], X.iloc[test_index]\n",
    "    y_train, y_test = np.log1p(y.iloc[train_index]), y.iloc[test_index]\n",
    "\n",
    "    model = CatBoostRegressor(**params)\n",
    "    model.fit(X_train,y_train,eval_set=[(X_train,y_train),(X_test, y_test)], early_stopping_rounds=200, verbose = False)#erly100\n",
    "\n",
    "    preds= model.predict(X_test)\n",
    "    print(\"err: \",(mean_squared_error(y_test,np.expm1(preds)))**0.5)  #Reverse transformation\n",
    "    oof_pred.append(mean_squared_error(y_test,np.expm1(preds))**0.5)\n",
    "    p2 = model.predict(df_test[X.columns])\n",
    "    fold_pred.append(np.expm1(p2))\n",
    "    \n",
    "\n",
    "print(np.mean(oof_pred))"
   ]
  },
  {
   "cell_type": "markdown",
   "id": "ded0fa74",
   "metadata": {
    "papermill": {
     "duration": 0.019764,
     "end_time": "2023-02-19T23:10:50.813306",
     "exception": false,
     "start_time": "2023-02-19T23:10:50.793542",
     "status": "completed"
    },
    "tags": []
   },
   "source": [
    "######  Feature Importance Plot.\n",
    "\n",
    "Here I plot the feature importance to understand how the model has learnt about the data. This also informed my decision on some of the columns I created statistical features for."
   ]
  },
  {
   "cell_type": "code",
   "execution_count": 36,
   "id": "f3fdbbb0",
   "metadata": {
    "execution": {
     "iopub.execute_input": "2023-02-19T23:10:50.855507Z",
     "iopub.status.busy": "2023-02-19T23:10:50.854734Z",
     "iopub.status.idle": "2023-02-19T23:10:52.491131Z",
     "shell.execute_reply": "2023-02-19T23:10:52.490089Z"
    },
    "id": "8uy1fhpyiI5O",
    "outputId": "b11fd739-cc53-44c5-ba1f-14558dbe9e4f",
    "papermill": {
     "duration": 1.663132,
     "end_time": "2023-02-19T23:10:52.496469",
     "exception": false,
     "start_time": "2023-02-19T23:10:50.833337",
     "status": "completed"
    },
    "tags": []
   },
   "outputs": [
    {
     "data": {
      "text/plain": [
       "Text(0.5, 1.0, 'CatboostRegressor features importance (top 50):')"
      ]
     },
     "execution_count": 36,
     "metadata": {},
     "output_type": "execute_result"
    },
    {
     "data": {
      "image/png": "[encoded data removed]",
      "text/plain": [
       "<Figure size 2000x1200 with 1 Axes>"
      ]
     },
     "metadata": {},
     "output_type": "display_data"
    }
   ],
   "source": [
    "feature_importance_df = pd.DataFrame(model.feature_importances_, columns=['importance'])\n",
    "feature_importance_df['feature'] = X.columns\n",
    "\n",
    "plt.figure(figsize=(20, 12));\n",
    "sns.barplot(x=\"importance\", y=\"feature\", data=feature_importance_df.sort_values(by = ['importance'], ascending = False).head(60))\n",
    "plt.title('CatboostRegressor features importance (top 50):')"
   ]
  },
  {
   "cell_type": "markdown",
   "id": "6fdf305a",
   "metadata": {
    "papermill": {
     "duration": 0.022899,
     "end_time": "2023-02-19T23:10:52.543670",
     "exception": false,
     "start_time": "2023-02-19T23:10:52.520771",
     "status": "completed"
    },
    "tags": []
   },
   "source": [
    "Create the A submission like the Sample submission and submit."
   ]
  },
  {
   "cell_type": "code",
   "execution_count": 37,
   "id": "f38cc9f2",
   "metadata": {
    "execution": {
     "iopub.execute_input": "2023-02-19T23:10:52.591715Z",
     "iopub.status.busy": "2023-02-19T23:10:52.591250Z",
     "iopub.status.idle": "2023-02-19T23:10:52.626181Z",
     "shell.execute_reply": "2023-02-19T23:10:52.625045Z"
    },
    "id": "ZXA1VJ8-aO-q",
    "papermill": {
     "duration": 0.062492,
     "end_time": "2023-02-19T23:10:52.629317",
     "exception": false,
     "start_time": "2023-02-19T23:10:52.566825",
     "status": "completed"
    },
    "tags": []
   },
   "outputs": [],
   "source": [
    "sub #my sample submission\n",
    "\n",
    "sub2 = pd.DataFrame()\n",
    "sub2[\"global_index\"] = df_test.global_index\n",
    "sub2[\"last_sale_price\"] = np.mean(fold_pred, axis = 0) # Take mean of folded predictions."
   ]
  },
  {
   "cell_type": "code",
   "execution_count": 38,
   "id": "6086e9d9",
   "metadata": {
    "execution": {
     "iopub.execute_input": "2023-02-19T23:10:52.678684Z",
     "iopub.status.busy": "2023-02-19T23:10:52.678296Z",
     "iopub.status.idle": "2023-02-19T23:10:52.683787Z",
     "shell.execute_reply": "2023-02-19T23:10:52.682635Z"
    },
    "id": "o0eZstY8aVIC",
    "papermill": {
     "duration": 0.032222,
     "end_time": "2023-02-19T23:10:52.686063",
     "exception": false,
     "start_time": "2023-02-19T23:10:52.653841",
     "status": "completed"
    },
    "tags": []
   },
   "outputs": [],
   "source": [
    "sub2 = sub2.reset_index(drop=True)"
   ]
  },
  {
   "cell_type": "code",
   "execution_count": 39,
   "id": "48f20026",
   "metadata": {
    "execution": {
     "iopub.execute_input": "2023-02-19T23:10:52.733873Z",
     "iopub.status.busy": "2023-02-19T23:10:52.733434Z",
     "iopub.status.idle": "2023-02-19T23:10:53.155379Z",
     "shell.execute_reply": "2023-02-19T23:10:53.154359Z"
    },
    "id": "704GxnXWbFFm",
    "outputId": "657f744f-1efe-44b6-924d-391424277a11",
    "papermill": {
     "duration": 0.448795,
     "end_time": "2023-02-19T23:10:53.157915",
     "exception": false,
     "start_time": "2023-02-19T23:10:52.709120",
     "status": "completed"
    },
    "tags": []
   },
   "outputs": [],
   "source": [
    "# Write to csv file to submit to BitGrit\n",
    "name = \"Catboost_Reproducibility.csv\"\n",
    "sub2.to_csv(name, index = False)"
   ]
  },
  {
   "cell_type": "markdown",
   "id": "ee446072",
   "metadata": {
    "id": "FLF1eHUtLYvk",
    "papermill": {
     "duration": 0.022954,
     "end_time": "2023-02-19T23:10:53.204317",
     "exception": false,
     "start_time": "2023-02-19T23:10:53.181363",
     "status": "completed"
    },
    "tags": []
   },
   "source": [
    "With This I was able to bag a score of 0.9367 on the Public leader board and 0.940 on the Private leaderboard hence coming first in both places."
   ]
  },
  {
   "cell_type": "markdown",
   "id": "a614e5a0",
   "metadata": {
    "papermill": {
     "duration": 0.023025,
     "end_time": "2023-02-19T23:10:53.250850",
     "exception": false,
     "start_time": "2023-02-19T23:10:53.227825",
     "status": "completed"
    },
    "tags": []
   },
   "source": [
    "Thanks for reviewing my solution and for hosting such a wonderful hackathon. I am always open to conversations and talks centered around Machine learning and Deep learning. Please Feel free to reach out to me anytime.\n",
    "\n",
    ". [Twitter](https://twitter.com/Osinkoluolufemi).\n",
    "\n",
    ". [Linkedin](https://www.linkedin.com/in/olufemi-victor-tolulope).\n",
    "\n",
    ". [Github](https://github.com/osinkolu)\n",
    "\n",
    ". [Email](mailto:femiosinkolu@gmail.com)\n",
    "\n",
    "### Author: Olufemi Victor Tolulope"
   ]
  },
  {
   "cell_type": "code",
   "execution_count": null,
   "id": "1db9ce94",
   "metadata": {
    "papermill": {
     "duration": 0.023161,
     "end_time": "2023-02-19T23:10:53.297463",
     "exception": false,
     "start_time": "2023-02-19T23:10:53.274302",
     "status": "completed"
    },
    "tags": []
   },
   "outputs": [],
   "source": []
  }
 ],
 "metadata": {
  "kernelspec": {
   "display_name": "Python 3",
   "language": "python",
   "name": "python3"
  },
  "language_info": {
   "codemirror_mode": {
    "name": "ipython",
    "version": 3
   },
   "file_extension": ".py",
   "mimetype": "text/x-python",
   "name": "python",
   "nbconvert_exporter": "python",
   "pygments_lexer": "ipython3",
   "version": "3.7.12"
  },
  "papermill": {
   "default_parameters": {},
   "duration": 7101.580363,
   "end_time": "2023-02-19T23:10:54.255794",
   "environment_variables": {},
   "exception": null,
   "input_path": "__notebook__.ipynb",
   "output_path": "__notebook__.ipynb",
   "parameters": {},
   "start_time": "2023-02-19T21:12:32.675431",
   "version": "2.3.4"
  }
 },
 "nbformat": 4,
 "nbformat_minor": 5
}
